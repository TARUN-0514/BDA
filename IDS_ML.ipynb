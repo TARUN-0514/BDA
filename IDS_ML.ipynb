{
  "nbformat": 4,
  "nbformat_minor": 0,
  "metadata": {
    "colab": {
      "provenance": [],
      "include_colab_link": true
    },
    "kernelspec": {
      "name": "python3",
      "display_name": "Python 3"
    },
    "language_info": {
      "name": "python"
    }
  },
  "cells": [
    {
      "cell_type": "markdown",
      "metadata": {
        "id": "view-in-github",
        "colab_type": "text"
      },
      "source": [
        "<a href=\"https://colab.research.google.com/github/TARUN-0514/BDA/blob/main/IDS_ML.ipynb\" target=\"_parent\"><img src=\"https://colab.research.google.com/assets/colab-badge.svg\" alt=\"Open In Colab\"/></a>"
      ]
    },
    {
      "cell_type": "markdown",
      "source": [
        "**Import desired Libraies according to the requirement**"
      ],
      "metadata": {
        "id": "7b3acDVpi7du"
      }
    },
    {
      "cell_type": "code",
      "execution_count": null,
      "metadata": {
        "id": "3Pc_kkrXFEYK"
      },
      "outputs": [],
      "source": [
        "import pandas as pd\n",
        "import seaborn as sns\n",
        "import matplotlib.pyplot as plt\n",
        "from sklearn.model_selection import train_test_split\n",
        "from sklearn.svm import SVC\n",
        "from sklearn.ensemble import RandomForestClassifier\n",
        "from sklearn.metrics import classification_report\n",
        "import os\n",
        "import numpy as np\n",
        "from sklearn import metrics\n",
        "from scipy.stats import zscore\n",
        "from pandas.api.types import is_numeric_dtype\n",
        "import warnings\n",
        "from sklearn import tree\n",
        "from sklearn.neighbors import KNeighborsClassifier\n",
        "from sklearn.linear_model import LogisticRegression\n",
        "from sklearn.preprocessing import StandardScaler, LabelEncoder\n",
        "from sklearn.tree  import DecisionTreeClassifier\n",
        "from sklearn.ensemble import AdaBoostClassifier, VotingClassifier, GradientBoostingClassifier\n",
        "from sklearn.svm import LinearSVC\n",
        "from sklearn.naive_bayes import BernoulliNB\n",
        "from lightgbm import LGBMClassifier\n",
        "from sklearn.feature_selection import RFE\n",
        "import itertools\n",
        "from xgboost import XGBClassifier\n",
        "from tabulate import tabulate\n"
      ]
    },
    {
      "cell_type": "markdown",
      "source": [
        "**Data set: Intrusion Detection System (IDS)**"
      ],
      "metadata": {
        "id": "jaXehW1Cjbmm"
      }
    },
    {
      "cell_type": "code",
      "source": [
        "train=pd.read_csv('/content/Train_data.csv')\n",
        "test=pd.read_csv('/content/Test_data.csv')"
      ],
      "metadata": {
        "id": "1h2suJkrsB9m"
      },
      "execution_count": null,
      "outputs": []
    },
    {
      "cell_type": "markdown",
      "source": [
        "**Print first 5 entries**"
      ],
      "metadata": {
        "id": "j7blRgIGjlYH"
      }
    },
    {
      "cell_type": "code",
      "source": [
        "train.head()"
      ],
      "metadata": {
        "colab": {
          "base_uri": "https://localhost:8080/",
          "height": 299
        },
        "id": "Aq6teNUXr20J",
        "outputId": "d3d7b84b-2b10-412f-b838-87025c5dec43"
      },
      "execution_count": null,
      "outputs": [
        {
          "output_type": "execute_result",
          "data": {
            "text/plain": [
              "   duration protocol_type   service flag  src_bytes  dst_bytes  land  \\\n",
              "0         0           tcp  ftp_data   SF        491          0     0   \n",
              "1         0           udp     other   SF        146          0     0   \n",
              "2         0           tcp   private   S0          0          0     0   \n",
              "3         0           tcp      http   SF        232       8153     0   \n",
              "4         0           tcp      http   SF        199        420     0   \n",
              "\n",
              "   wrong_fragment  urgent  hot  ...  dst_host_srv_count  \\\n",
              "0               0       0    0  ...                  25   \n",
              "1               0       0    0  ...                   1   \n",
              "2               0       0    0  ...                  26   \n",
              "3               0       0    0  ...                 255   \n",
              "4               0       0    0  ...                 255   \n",
              "\n",
              "   dst_host_same_srv_rate  dst_host_diff_srv_rate  \\\n",
              "0                    0.17                    0.03   \n",
              "1                    0.00                    0.60   \n",
              "2                    0.10                    0.05   \n",
              "3                    1.00                    0.00   \n",
              "4                    1.00                    0.00   \n",
              "\n",
              "   dst_host_same_src_port_rate  dst_host_srv_diff_host_rate  \\\n",
              "0                         0.17                         0.00   \n",
              "1                         0.88                         0.00   \n",
              "2                         0.00                         0.00   \n",
              "3                         0.03                         0.04   \n",
              "4                         0.00                         0.00   \n",
              "\n",
              "   dst_host_serror_rate  dst_host_srv_serror_rate  dst_host_rerror_rate  \\\n",
              "0                  0.00                      0.00                  0.05   \n",
              "1                  0.00                      0.00                  0.00   \n",
              "2                  1.00                      1.00                  0.00   \n",
              "3                  0.03                      0.01                  0.00   \n",
              "4                  0.00                      0.00                  0.00   \n",
              "\n",
              "   dst_host_srv_rerror_rate    class  \n",
              "0                      0.00   normal  \n",
              "1                      0.00   normal  \n",
              "2                      0.00  anomaly  \n",
              "3                      0.01   normal  \n",
              "4                      0.00   normal  \n",
              "\n",
              "[5 rows x 42 columns]"
            ],
            "text/html": [
              "\n",
              "  <div id=\"df-b3fd4ce8-51f7-4e54-8a6b-ecb2c529cedf\">\n",
              "    <div class=\"colab-df-container\">\n",
              "      <div>\n",
              "<style scoped>\n",
              "    .dataframe tbody tr th:only-of-type {\n",
              "        vertical-align: middle;\n",
              "    }\n",
              "\n",
              "    .dataframe tbody tr th {\n",
              "        vertical-align: top;\n",
              "    }\n",
              "\n",
              "    .dataframe thead th {\n",
              "        text-align: right;\n",
              "    }\n",
              "</style>\n",
              "<table border=\"1\" class=\"dataframe\">\n",
              "  <thead>\n",
              "    <tr style=\"text-align: right;\">\n",
              "      <th></th>\n",
              "      <th>duration</th>\n",
              "      <th>protocol_type</th>\n",
              "      <th>service</th>\n",
              "      <th>flag</th>\n",
              "      <th>src_bytes</th>\n",
              "      <th>dst_bytes</th>\n",
              "      <th>land</th>\n",
              "      <th>wrong_fragment</th>\n",
              "      <th>urgent</th>\n",
              "      <th>hot</th>\n",
              "      <th>...</th>\n",
              "      <th>dst_host_srv_count</th>\n",
              "      <th>dst_host_same_srv_rate</th>\n",
              "      <th>dst_host_diff_srv_rate</th>\n",
              "      <th>dst_host_same_src_port_rate</th>\n",
              "      <th>dst_host_srv_diff_host_rate</th>\n",
              "      <th>dst_host_serror_rate</th>\n",
              "      <th>dst_host_srv_serror_rate</th>\n",
              "      <th>dst_host_rerror_rate</th>\n",
              "      <th>dst_host_srv_rerror_rate</th>\n",
              "      <th>class</th>\n",
              "    </tr>\n",
              "  </thead>\n",
              "  <tbody>\n",
              "    <tr>\n",
              "      <th>0</th>\n",
              "      <td>0</td>\n",
              "      <td>tcp</td>\n",
              "      <td>ftp_data</td>\n",
              "      <td>SF</td>\n",
              "      <td>491</td>\n",
              "      <td>0</td>\n",
              "      <td>0</td>\n",
              "      <td>0</td>\n",
              "      <td>0</td>\n",
              "      <td>0</td>\n",
              "      <td>...</td>\n",
              "      <td>25</td>\n",
              "      <td>0.17</td>\n",
              "      <td>0.03</td>\n",
              "      <td>0.17</td>\n",
              "      <td>0.00</td>\n",
              "      <td>0.00</td>\n",
              "      <td>0.00</td>\n",
              "      <td>0.05</td>\n",
              "      <td>0.00</td>\n",
              "      <td>normal</td>\n",
              "    </tr>\n",
              "    <tr>\n",
              "      <th>1</th>\n",
              "      <td>0</td>\n",
              "      <td>udp</td>\n",
              "      <td>other</td>\n",
              "      <td>SF</td>\n",
              "      <td>146</td>\n",
              "      <td>0</td>\n",
              "      <td>0</td>\n",
              "      <td>0</td>\n",
              "      <td>0</td>\n",
              "      <td>0</td>\n",
              "      <td>...</td>\n",
              "      <td>1</td>\n",
              "      <td>0.00</td>\n",
              "      <td>0.60</td>\n",
              "      <td>0.88</td>\n",
              "      <td>0.00</td>\n",
              "      <td>0.00</td>\n",
              "      <td>0.00</td>\n",
              "      <td>0.00</td>\n",
              "      <td>0.00</td>\n",
              "      <td>normal</td>\n",
              "    </tr>\n",
              "    <tr>\n",
              "      <th>2</th>\n",
              "      <td>0</td>\n",
              "      <td>tcp</td>\n",
              "      <td>private</td>\n",
              "      <td>S0</td>\n",
              "      <td>0</td>\n",
              "      <td>0</td>\n",
              "      <td>0</td>\n",
              "      <td>0</td>\n",
              "      <td>0</td>\n",
              "      <td>0</td>\n",
              "      <td>...</td>\n",
              "      <td>26</td>\n",
              "      <td>0.10</td>\n",
              "      <td>0.05</td>\n",
              "      <td>0.00</td>\n",
              "      <td>0.00</td>\n",
              "      <td>1.00</td>\n",
              "      <td>1.00</td>\n",
              "      <td>0.00</td>\n",
              "      <td>0.00</td>\n",
              "      <td>anomaly</td>\n",
              "    </tr>\n",
              "    <tr>\n",
              "      <th>3</th>\n",
              "      <td>0</td>\n",
              "      <td>tcp</td>\n",
              "      <td>http</td>\n",
              "      <td>SF</td>\n",
              "      <td>232</td>\n",
              "      <td>8153</td>\n",
              "      <td>0</td>\n",
              "      <td>0</td>\n",
              "      <td>0</td>\n",
              "      <td>0</td>\n",
              "      <td>...</td>\n",
              "      <td>255</td>\n",
              "      <td>1.00</td>\n",
              "      <td>0.00</td>\n",
              "      <td>0.03</td>\n",
              "      <td>0.04</td>\n",
              "      <td>0.03</td>\n",
              "      <td>0.01</td>\n",
              "      <td>0.00</td>\n",
              "      <td>0.01</td>\n",
              "      <td>normal</td>\n",
              "    </tr>\n",
              "    <tr>\n",
              "      <th>4</th>\n",
              "      <td>0</td>\n",
              "      <td>tcp</td>\n",
              "      <td>http</td>\n",
              "      <td>SF</td>\n",
              "      <td>199</td>\n",
              "      <td>420</td>\n",
              "      <td>0</td>\n",
              "      <td>0</td>\n",
              "      <td>0</td>\n",
              "      <td>0</td>\n",
              "      <td>...</td>\n",
              "      <td>255</td>\n",
              "      <td>1.00</td>\n",
              "      <td>0.00</td>\n",
              "      <td>0.00</td>\n",
              "      <td>0.00</td>\n",
              "      <td>0.00</td>\n",
              "      <td>0.00</td>\n",
              "      <td>0.00</td>\n",
              "      <td>0.00</td>\n",
              "      <td>normal</td>\n",
              "    </tr>\n",
              "  </tbody>\n",
              "</table>\n",
              "<p>5 rows × 42 columns</p>\n",
              "</div>\n",
              "      <button class=\"colab-df-convert\" onclick=\"convertToInteractive('df-b3fd4ce8-51f7-4e54-8a6b-ecb2c529cedf')\"\n",
              "              title=\"Convert this dataframe to an interactive table.\"\n",
              "              style=\"display:none;\">\n",
              "        \n",
              "  <svg xmlns=\"http://www.w3.org/2000/svg\" height=\"24px\"viewBox=\"0 0 24 24\"\n",
              "       width=\"24px\">\n",
              "    <path d=\"M0 0h24v24H0V0z\" fill=\"none\"/>\n",
              "    <path d=\"M18.56 5.44l.94 2.06.94-2.06 2.06-.94-2.06-.94-.94-2.06-.94 2.06-2.06.94zm-11 1L8.5 8.5l.94-2.06 2.06-.94-2.06-.94L8.5 2.5l-.94 2.06-2.06.94zm10 10l.94 2.06.94-2.06 2.06-.94-2.06-.94-.94-2.06-.94 2.06-2.06.94z\"/><path d=\"M17.41 7.96l-1.37-1.37c-.4-.4-.92-.59-1.43-.59-.52 0-1.04.2-1.43.59L10.3 9.45l-7.72 7.72c-.78.78-.78 2.05 0 2.83L4 21.41c.39.39.9.59 1.41.59.51 0 1.02-.2 1.41-.59l7.78-7.78 2.81-2.81c.8-.78.8-2.07 0-2.86zM5.41 20L4 18.59l7.72-7.72 1.47 1.35L5.41 20z\"/>\n",
              "  </svg>\n",
              "      </button>\n",
              "      \n",
              "  <style>\n",
              "    .colab-df-container {\n",
              "      display:flex;\n",
              "      flex-wrap:wrap;\n",
              "      gap: 12px;\n",
              "    }\n",
              "\n",
              "    .colab-df-convert {\n",
              "      background-color: #E8F0FE;\n",
              "      border: none;\n",
              "      border-radius: 50%;\n",
              "      cursor: pointer;\n",
              "      display: none;\n",
              "      fill: #1967D2;\n",
              "      height: 32px;\n",
              "      padding: 0 0 0 0;\n",
              "      width: 32px;\n",
              "    }\n",
              "\n",
              "    .colab-df-convert:hover {\n",
              "      background-color: #E2EBFA;\n",
              "      box-shadow: 0px 1px 2px rgba(60, 64, 67, 0.3), 0px 1px 3px 1px rgba(60, 64, 67, 0.15);\n",
              "      fill: #174EA6;\n",
              "    }\n",
              "\n",
              "    [theme=dark] .colab-df-convert {\n",
              "      background-color: #3B4455;\n",
              "      fill: #D2E3FC;\n",
              "    }\n",
              "\n",
              "    [theme=dark] .colab-df-convert:hover {\n",
              "      background-color: #434B5C;\n",
              "      box-shadow: 0px 1px 3px 1px rgba(0, 0, 0, 0.15);\n",
              "      filter: drop-shadow(0px 1px 2px rgba(0, 0, 0, 0.3));\n",
              "      fill: #FFFFFF;\n",
              "    }\n",
              "  </style>\n",
              "\n",
              "      <script>\n",
              "        const buttonEl =\n",
              "          document.querySelector('#df-b3fd4ce8-51f7-4e54-8a6b-ecb2c529cedf button.colab-df-convert');\n",
              "        buttonEl.style.display =\n",
              "          google.colab.kernel.accessAllowed ? 'block' : 'none';\n",
              "\n",
              "        async function convertToInteractive(key) {\n",
              "          const element = document.querySelector('#df-b3fd4ce8-51f7-4e54-8a6b-ecb2c529cedf');\n",
              "          const dataTable =\n",
              "            await google.colab.kernel.invokeFunction('convertToInteractive',\n",
              "                                                     [key], {});\n",
              "          if (!dataTable) return;\n",
              "\n",
              "          const docLinkHtml = 'Like what you see? Visit the ' +\n",
              "            '<a target=\"_blank\" href=https://colab.research.google.com/notebooks/data_table.ipynb>data table notebook</a>'\n",
              "            + ' to learn more about interactive tables.';\n",
              "          element.innerHTML = '';\n",
              "          dataTable['output_type'] = 'display_data';\n",
              "          await google.colab.output.renderOutput(dataTable, element);\n",
              "          const docLink = document.createElement('div');\n",
              "          docLink.innerHTML = docLinkHtml;\n",
              "          element.appendChild(docLink);\n",
              "        }\n",
              "      </script>\n",
              "    </div>\n",
              "  </div>\n",
              "  "
            ]
          },
          "metadata": {},
          "execution_count": 23
        }
      ]
    },
    {
      "cell_type": "code",
      "source": [
        "train.info()"
      ],
      "metadata": {
        "colab": {
          "base_uri": "https://localhost:8080/"
        },
        "id": "1kDY4cGfs15h",
        "outputId": "9060445e-3b31-4ffb-e808-c61562878a76"
      },
      "execution_count": null,
      "outputs": [
        {
          "output_type": "stream",
          "name": "stdout",
          "text": [
            "<class 'pandas.core.frame.DataFrame'>\n",
            "RangeIndex: 25192 entries, 0 to 25191\n",
            "Data columns (total 42 columns):\n",
            " #   Column                       Non-Null Count  Dtype  \n",
            "---  ------                       --------------  -----  \n",
            " 0   duration                     25192 non-null  int64  \n",
            " 1   protocol_type                25192 non-null  object \n",
            " 2   service                      25192 non-null  object \n",
            " 3   flag                         25192 non-null  object \n",
            " 4   src_bytes                    25192 non-null  int64  \n",
            " 5   dst_bytes                    25192 non-null  int64  \n",
            " 6   land                         25192 non-null  int64  \n",
            " 7   wrong_fragment               25192 non-null  int64  \n",
            " 8   urgent                       25192 non-null  int64  \n",
            " 9   hot                          25192 non-null  int64  \n",
            " 10  num_failed_logins            25192 non-null  int64  \n",
            " 11  logged_in                    25192 non-null  int64  \n",
            " 12  num_compromised              25192 non-null  int64  \n",
            " 13  root_shell                   25192 non-null  int64  \n",
            " 14  su_attempted                 25192 non-null  int64  \n",
            " 15  num_root                     25192 non-null  int64  \n",
            " 16  num_file_creations           25192 non-null  int64  \n",
            " 17  num_shells                   25192 non-null  int64  \n",
            " 18  num_access_files             25192 non-null  int64  \n",
            " 19  num_outbound_cmds            25192 non-null  int64  \n",
            " 20  is_host_login                25192 non-null  int64  \n",
            " 21  is_guest_login               25192 non-null  int64  \n",
            " 22  count                        25192 non-null  int64  \n",
            " 23  srv_count                    25192 non-null  int64  \n",
            " 24  serror_rate                  25192 non-null  float64\n",
            " 25  srv_serror_rate              25192 non-null  float64\n",
            " 26  rerror_rate                  25192 non-null  float64\n",
            " 27  srv_rerror_rate              25192 non-null  float64\n",
            " 28  same_srv_rate                25192 non-null  float64\n",
            " 29  diff_srv_rate                25192 non-null  float64\n",
            " 30  srv_diff_host_rate           25192 non-null  float64\n",
            " 31  dst_host_count               25192 non-null  int64  \n",
            " 32  dst_host_srv_count           25192 non-null  int64  \n",
            " 33  dst_host_same_srv_rate       25192 non-null  float64\n",
            " 34  dst_host_diff_srv_rate       25192 non-null  float64\n",
            " 35  dst_host_same_src_port_rate  25192 non-null  float64\n",
            " 36  dst_host_srv_diff_host_rate  25192 non-null  float64\n",
            " 37  dst_host_serror_rate         25192 non-null  float64\n",
            " 38  dst_host_srv_serror_rate     25192 non-null  float64\n",
            " 39  dst_host_rerror_rate         25192 non-null  float64\n",
            " 40  dst_host_srv_rerror_rate     25192 non-null  float64\n",
            " 41  class                        25192 non-null  object \n",
            "dtypes: float64(15), int64(23), object(4)\n",
            "memory usage: 8.1+ MB\n"
          ]
        }
      ]
    },
    {
      "cell_type": "code",
      "source": [
        "train.describe()"
      ],
      "metadata": {
        "colab": {
          "base_uri": "https://localhost:8080/",
          "height": 393
        },
        "id": "lNwvfQwws5Cf",
        "outputId": "01d8ec42-d1e8-47eb-9c7a-65099046daf7"
      },
      "execution_count": null,
      "outputs": [
        {
          "output_type": "execute_result",
          "data": {
            "text/plain": [
              "           duration     src_bytes     dst_bytes          land  wrong_fragment  \\\n",
              "count  25192.000000  2.519200e+04  2.519200e+04  25192.000000    25192.000000   \n",
              "mean     305.054104  2.433063e+04  3.491847e+03      0.000079        0.023738   \n",
              "std     2686.555640  2.410805e+06  8.883072e+04      0.008910        0.260221   \n",
              "min        0.000000  0.000000e+00  0.000000e+00      0.000000        0.000000   \n",
              "25%        0.000000  0.000000e+00  0.000000e+00      0.000000        0.000000   \n",
              "50%        0.000000  4.400000e+01  0.000000e+00      0.000000        0.000000   \n",
              "75%        0.000000  2.790000e+02  5.302500e+02      0.000000        0.000000   \n",
              "max    42862.000000  3.817091e+08  5.151385e+06      1.000000        3.000000   \n",
              "\n",
              "            urgent           hot  num_failed_logins     logged_in  \\\n",
              "count  25192.00000  25192.000000       25192.000000  25192.000000   \n",
              "mean       0.00004      0.198039           0.001191      0.394768   \n",
              "std        0.00630      2.154202           0.045418      0.488811   \n",
              "min        0.00000      0.000000           0.000000      0.000000   \n",
              "25%        0.00000      0.000000           0.000000      0.000000   \n",
              "50%        0.00000      0.000000           0.000000      0.000000   \n",
              "75%        0.00000      0.000000           0.000000      1.000000   \n",
              "max        1.00000     77.000000           4.000000      1.000000   \n",
              "\n",
              "       num_compromised  ...  dst_host_count  dst_host_srv_count  \\\n",
              "count     25192.000000  ...    25192.000000        25192.000000   \n",
              "mean          0.227850  ...      182.532074          115.063036   \n",
              "std          10.417352  ...       98.993895          110.646850   \n",
              "min           0.000000  ...        0.000000            0.000000   \n",
              "25%           0.000000  ...       84.000000           10.000000   \n",
              "50%           0.000000  ...      255.000000           61.000000   \n",
              "75%           0.000000  ...      255.000000          255.000000   \n",
              "max         884.000000  ...      255.000000          255.000000   \n",
              "\n",
              "       dst_host_same_srv_rate  dst_host_diff_srv_rate  \\\n",
              "count            25192.000000            25192.000000   \n",
              "mean                 0.519791                0.082539   \n",
              "std                  0.448944                0.187191   \n",
              "min                  0.000000                0.000000   \n",
              "25%                  0.050000                0.000000   \n",
              "50%                  0.510000                0.030000   \n",
              "75%                  1.000000                0.070000   \n",
              "max                  1.000000                1.000000   \n",
              "\n",
              "       dst_host_same_src_port_rate  dst_host_srv_diff_host_rate  \\\n",
              "count                 25192.000000                 25192.000000   \n",
              "mean                      0.147453                     0.031844   \n",
              "std                       0.308367                     0.110575   \n",
              "min                       0.000000                     0.000000   \n",
              "25%                       0.000000                     0.000000   \n",
              "50%                       0.000000                     0.000000   \n",
              "75%                       0.060000                     0.020000   \n",
              "max                       1.000000                     1.000000   \n",
              "\n",
              "       dst_host_serror_rate  dst_host_srv_serror_rate  dst_host_rerror_rate  \\\n",
              "count          25192.000000              25192.000000          25192.000000   \n",
              "mean               0.285800                  0.279846              0.117800   \n",
              "std                0.445316                  0.446075              0.305869   \n",
              "min                0.000000                  0.000000              0.000000   \n",
              "25%                0.000000                  0.000000              0.000000   \n",
              "50%                0.000000                  0.000000              0.000000   \n",
              "75%                1.000000                  1.000000              0.000000   \n",
              "max                1.000000                  1.000000              1.000000   \n",
              "\n",
              "       dst_host_srv_rerror_rate  \n",
              "count              25192.000000  \n",
              "mean                   0.118769  \n",
              "std                    0.317333  \n",
              "min                    0.000000  \n",
              "25%                    0.000000  \n",
              "50%                    0.000000  \n",
              "75%                    0.000000  \n",
              "max                    1.000000  \n",
              "\n",
              "[8 rows x 38 columns]"
            ],
            "text/html": [
              "\n",
              "  <div id=\"df-67d13aca-5776-40b0-87eb-888e126c59e0\">\n",
              "    <div class=\"colab-df-container\">\n",
              "      <div>\n",
              "<style scoped>\n",
              "    .dataframe tbody tr th:only-of-type {\n",
              "        vertical-align: middle;\n",
              "    }\n",
              "\n",
              "    .dataframe tbody tr th {\n",
              "        vertical-align: top;\n",
              "    }\n",
              "\n",
              "    .dataframe thead th {\n",
              "        text-align: right;\n",
              "    }\n",
              "</style>\n",
              "<table border=\"1\" class=\"dataframe\">\n",
              "  <thead>\n",
              "    <tr style=\"text-align: right;\">\n",
              "      <th></th>\n",
              "      <th>duration</th>\n",
              "      <th>src_bytes</th>\n",
              "      <th>dst_bytes</th>\n",
              "      <th>land</th>\n",
              "      <th>wrong_fragment</th>\n",
              "      <th>urgent</th>\n",
              "      <th>hot</th>\n",
              "      <th>num_failed_logins</th>\n",
              "      <th>logged_in</th>\n",
              "      <th>num_compromised</th>\n",
              "      <th>...</th>\n",
              "      <th>dst_host_count</th>\n",
              "      <th>dst_host_srv_count</th>\n",
              "      <th>dst_host_same_srv_rate</th>\n",
              "      <th>dst_host_diff_srv_rate</th>\n",
              "      <th>dst_host_same_src_port_rate</th>\n",
              "      <th>dst_host_srv_diff_host_rate</th>\n",
              "      <th>dst_host_serror_rate</th>\n",
              "      <th>dst_host_srv_serror_rate</th>\n",
              "      <th>dst_host_rerror_rate</th>\n",
              "      <th>dst_host_srv_rerror_rate</th>\n",
              "    </tr>\n",
              "  </thead>\n",
              "  <tbody>\n",
              "    <tr>\n",
              "      <th>count</th>\n",
              "      <td>25192.000000</td>\n",
              "      <td>2.519200e+04</td>\n",
              "      <td>2.519200e+04</td>\n",
              "      <td>25192.000000</td>\n",
              "      <td>25192.000000</td>\n",
              "      <td>25192.00000</td>\n",
              "      <td>25192.000000</td>\n",
              "      <td>25192.000000</td>\n",
              "      <td>25192.000000</td>\n",
              "      <td>25192.000000</td>\n",
              "      <td>...</td>\n",
              "      <td>25192.000000</td>\n",
              "      <td>25192.000000</td>\n",
              "      <td>25192.000000</td>\n",
              "      <td>25192.000000</td>\n",
              "      <td>25192.000000</td>\n",
              "      <td>25192.000000</td>\n",
              "      <td>25192.000000</td>\n",
              "      <td>25192.000000</td>\n",
              "      <td>25192.000000</td>\n",
              "      <td>25192.000000</td>\n",
              "    </tr>\n",
              "    <tr>\n",
              "      <th>mean</th>\n",
              "      <td>305.054104</td>\n",
              "      <td>2.433063e+04</td>\n",
              "      <td>3.491847e+03</td>\n",
              "      <td>0.000079</td>\n",
              "      <td>0.023738</td>\n",
              "      <td>0.00004</td>\n",
              "      <td>0.198039</td>\n",
              "      <td>0.001191</td>\n",
              "      <td>0.394768</td>\n",
              "      <td>0.227850</td>\n",
              "      <td>...</td>\n",
              "      <td>182.532074</td>\n",
              "      <td>115.063036</td>\n",
              "      <td>0.519791</td>\n",
              "      <td>0.082539</td>\n",
              "      <td>0.147453</td>\n",
              "      <td>0.031844</td>\n",
              "      <td>0.285800</td>\n",
              "      <td>0.279846</td>\n",
              "      <td>0.117800</td>\n",
              "      <td>0.118769</td>\n",
              "    </tr>\n",
              "    <tr>\n",
              "      <th>std</th>\n",
              "      <td>2686.555640</td>\n",
              "      <td>2.410805e+06</td>\n",
              "      <td>8.883072e+04</td>\n",
              "      <td>0.008910</td>\n",
              "      <td>0.260221</td>\n",
              "      <td>0.00630</td>\n",
              "      <td>2.154202</td>\n",
              "      <td>0.045418</td>\n",
              "      <td>0.488811</td>\n",
              "      <td>10.417352</td>\n",
              "      <td>...</td>\n",
              "      <td>98.993895</td>\n",
              "      <td>110.646850</td>\n",
              "      <td>0.448944</td>\n",
              "      <td>0.187191</td>\n",
              "      <td>0.308367</td>\n",
              "      <td>0.110575</td>\n",
              "      <td>0.445316</td>\n",
              "      <td>0.446075</td>\n",
              "      <td>0.305869</td>\n",
              "      <td>0.317333</td>\n",
              "    </tr>\n",
              "    <tr>\n",
              "      <th>min</th>\n",
              "      <td>0.000000</td>\n",
              "      <td>0.000000e+00</td>\n",
              "      <td>0.000000e+00</td>\n",
              "      <td>0.000000</td>\n",
              "      <td>0.000000</td>\n",
              "      <td>0.00000</td>\n",
              "      <td>0.000000</td>\n",
              "      <td>0.000000</td>\n",
              "      <td>0.000000</td>\n",
              "      <td>0.000000</td>\n",
              "      <td>...</td>\n",
              "      <td>0.000000</td>\n",
              "      <td>0.000000</td>\n",
              "      <td>0.000000</td>\n",
              "      <td>0.000000</td>\n",
              "      <td>0.000000</td>\n",
              "      <td>0.000000</td>\n",
              "      <td>0.000000</td>\n",
              "      <td>0.000000</td>\n",
              "      <td>0.000000</td>\n",
              "      <td>0.000000</td>\n",
              "    </tr>\n",
              "    <tr>\n",
              "      <th>25%</th>\n",
              "      <td>0.000000</td>\n",
              "      <td>0.000000e+00</td>\n",
              "      <td>0.000000e+00</td>\n",
              "      <td>0.000000</td>\n",
              "      <td>0.000000</td>\n",
              "      <td>0.00000</td>\n",
              "      <td>0.000000</td>\n",
              "      <td>0.000000</td>\n",
              "      <td>0.000000</td>\n",
              "      <td>0.000000</td>\n",
              "      <td>...</td>\n",
              "      <td>84.000000</td>\n",
              "      <td>10.000000</td>\n",
              "      <td>0.050000</td>\n",
              "      <td>0.000000</td>\n",
              "      <td>0.000000</td>\n",
              "      <td>0.000000</td>\n",
              "      <td>0.000000</td>\n",
              "      <td>0.000000</td>\n",
              "      <td>0.000000</td>\n",
              "      <td>0.000000</td>\n",
              "    </tr>\n",
              "    <tr>\n",
              "      <th>50%</th>\n",
              "      <td>0.000000</td>\n",
              "      <td>4.400000e+01</td>\n",
              "      <td>0.000000e+00</td>\n",
              "      <td>0.000000</td>\n",
              "      <td>0.000000</td>\n",
              "      <td>0.00000</td>\n",
              "      <td>0.000000</td>\n",
              "      <td>0.000000</td>\n",
              "      <td>0.000000</td>\n",
              "      <td>0.000000</td>\n",
              "      <td>...</td>\n",
              "      <td>255.000000</td>\n",
              "      <td>61.000000</td>\n",
              "      <td>0.510000</td>\n",
              "      <td>0.030000</td>\n",
              "      <td>0.000000</td>\n",
              "      <td>0.000000</td>\n",
              "      <td>0.000000</td>\n",
              "      <td>0.000000</td>\n",
              "      <td>0.000000</td>\n",
              "      <td>0.000000</td>\n",
              "    </tr>\n",
              "    <tr>\n",
              "      <th>75%</th>\n",
              "      <td>0.000000</td>\n",
              "      <td>2.790000e+02</td>\n",
              "      <td>5.302500e+02</td>\n",
              "      <td>0.000000</td>\n",
              "      <td>0.000000</td>\n",
              "      <td>0.00000</td>\n",
              "      <td>0.000000</td>\n",
              "      <td>0.000000</td>\n",
              "      <td>1.000000</td>\n",
              "      <td>0.000000</td>\n",
              "      <td>...</td>\n",
              "      <td>255.000000</td>\n",
              "      <td>255.000000</td>\n",
              "      <td>1.000000</td>\n",
              "      <td>0.070000</td>\n",
              "      <td>0.060000</td>\n",
              "      <td>0.020000</td>\n",
              "      <td>1.000000</td>\n",
              "      <td>1.000000</td>\n",
              "      <td>0.000000</td>\n",
              "      <td>0.000000</td>\n",
              "    </tr>\n",
              "    <tr>\n",
              "      <th>max</th>\n",
              "      <td>42862.000000</td>\n",
              "      <td>3.817091e+08</td>\n",
              "      <td>5.151385e+06</td>\n",
              "      <td>1.000000</td>\n",
              "      <td>3.000000</td>\n",
              "      <td>1.00000</td>\n",
              "      <td>77.000000</td>\n",
              "      <td>4.000000</td>\n",
              "      <td>1.000000</td>\n",
              "      <td>884.000000</td>\n",
              "      <td>...</td>\n",
              "      <td>255.000000</td>\n",
              "      <td>255.000000</td>\n",
              "      <td>1.000000</td>\n",
              "      <td>1.000000</td>\n",
              "      <td>1.000000</td>\n",
              "      <td>1.000000</td>\n",
              "      <td>1.000000</td>\n",
              "      <td>1.000000</td>\n",
              "      <td>1.000000</td>\n",
              "      <td>1.000000</td>\n",
              "    </tr>\n",
              "  </tbody>\n",
              "</table>\n",
              "<p>8 rows × 38 columns</p>\n",
              "</div>\n",
              "      <button class=\"colab-df-convert\" onclick=\"convertToInteractive('df-67d13aca-5776-40b0-87eb-888e126c59e0')\"\n",
              "              title=\"Convert this dataframe to an interactive table.\"\n",
              "              style=\"display:none;\">\n",
              "        \n",
              "  <svg xmlns=\"http://www.w3.org/2000/svg\" height=\"24px\"viewBox=\"0 0 24 24\"\n",
              "       width=\"24px\">\n",
              "    <path d=\"M0 0h24v24H0V0z\" fill=\"none\"/>\n",
              "    <path d=\"M18.56 5.44l.94 2.06.94-2.06 2.06-.94-2.06-.94-.94-2.06-.94 2.06-2.06.94zm-11 1L8.5 8.5l.94-2.06 2.06-.94-2.06-.94L8.5 2.5l-.94 2.06-2.06.94zm10 10l.94 2.06.94-2.06 2.06-.94-2.06-.94-.94-2.06-.94 2.06-2.06.94z\"/><path d=\"M17.41 7.96l-1.37-1.37c-.4-.4-.92-.59-1.43-.59-.52 0-1.04.2-1.43.59L10.3 9.45l-7.72 7.72c-.78.78-.78 2.05 0 2.83L4 21.41c.39.39.9.59 1.41.59.51 0 1.02-.2 1.41-.59l7.78-7.78 2.81-2.81c.8-.78.8-2.07 0-2.86zM5.41 20L4 18.59l7.72-7.72 1.47 1.35L5.41 20z\"/>\n",
              "  </svg>\n",
              "      </button>\n",
              "      \n",
              "  <style>\n",
              "    .colab-df-container {\n",
              "      display:flex;\n",
              "      flex-wrap:wrap;\n",
              "      gap: 12px;\n",
              "    }\n",
              "\n",
              "    .colab-df-convert {\n",
              "      background-color: #E8F0FE;\n",
              "      border: none;\n",
              "      border-radius: 50%;\n",
              "      cursor: pointer;\n",
              "      display: none;\n",
              "      fill: #1967D2;\n",
              "      height: 32px;\n",
              "      padding: 0 0 0 0;\n",
              "      width: 32px;\n",
              "    }\n",
              "\n",
              "    .colab-df-convert:hover {\n",
              "      background-color: #E2EBFA;\n",
              "      box-shadow: 0px 1px 2px rgba(60, 64, 67, 0.3), 0px 1px 3px 1px rgba(60, 64, 67, 0.15);\n",
              "      fill: #174EA6;\n",
              "    }\n",
              "\n",
              "    [theme=dark] .colab-df-convert {\n",
              "      background-color: #3B4455;\n",
              "      fill: #D2E3FC;\n",
              "    }\n",
              "\n",
              "    [theme=dark] .colab-df-convert:hover {\n",
              "      background-color: #434B5C;\n",
              "      box-shadow: 0px 1px 3px 1px rgba(0, 0, 0, 0.15);\n",
              "      filter: drop-shadow(0px 1px 2px rgba(0, 0, 0, 0.3));\n",
              "      fill: #FFFFFF;\n",
              "    }\n",
              "  </style>\n",
              "\n",
              "      <script>\n",
              "        const buttonEl =\n",
              "          document.querySelector('#df-67d13aca-5776-40b0-87eb-888e126c59e0 button.colab-df-convert');\n",
              "        buttonEl.style.display =\n",
              "          google.colab.kernel.accessAllowed ? 'block' : 'none';\n",
              "\n",
              "        async function convertToInteractive(key) {\n",
              "          const element = document.querySelector('#df-67d13aca-5776-40b0-87eb-888e126c59e0');\n",
              "          const dataTable =\n",
              "            await google.colab.kernel.invokeFunction('convertToInteractive',\n",
              "                                                     [key], {});\n",
              "          if (!dataTable) return;\n",
              "\n",
              "          const docLinkHtml = 'Like what you see? Visit the ' +\n",
              "            '<a target=\"_blank\" href=https://colab.research.google.com/notebooks/data_table.ipynb>data table notebook</a>'\n",
              "            + ' to learn more about interactive tables.';\n",
              "          element.innerHTML = '';\n",
              "          dataTable['output_type'] = 'display_data';\n",
              "          await google.colab.output.renderOutput(dataTable, element);\n",
              "          const docLink = document.createElement('div');\n",
              "          docLink.innerHTML = docLinkHtml;\n",
              "          element.appendChild(docLink);\n",
              "        }\n",
              "      </script>\n",
              "    </div>\n",
              "  </div>\n",
              "  "
            ]
          },
          "metadata": {},
          "execution_count": 25
        }
      ]
    },
    {
      "cell_type": "code",
      "source": [
        "train.shape"
      ],
      "metadata": {
        "colab": {
          "base_uri": "https://localhost:8080/"
        },
        "id": "lSuAcyVstDWO",
        "outputId": "1e6e562a-6ec0-4032-f92c-d764e16b66b6"
      },
      "execution_count": null,
      "outputs": [
        {
          "output_type": "execute_result",
          "data": {
            "text/plain": [
              "(25192, 42)"
            ]
          },
          "metadata": {},
          "execution_count": 26
        }
      ]
    },
    {
      "cell_type": "code",
      "source": [
        "train.isnull().sum()"
      ],
      "metadata": {
        "colab": {
          "base_uri": "https://localhost:8080/"
        },
        "id": "gji8cdaUs9ae",
        "outputId": "262aa83c-5f2e-4642-a073-9be343ad6a34"
      },
      "execution_count": null,
      "outputs": [
        {
          "output_type": "execute_result",
          "data": {
            "text/plain": [
              "duration                       0\n",
              "protocol_type                  0\n",
              "service                        0\n",
              "flag                           0\n",
              "src_bytes                      0\n",
              "dst_bytes                      0\n",
              "land                           0\n",
              "wrong_fragment                 0\n",
              "urgent                         0\n",
              "hot                            0\n",
              "num_failed_logins              0\n",
              "logged_in                      0\n",
              "num_compromised                0\n",
              "root_shell                     0\n",
              "su_attempted                   0\n",
              "num_root                       0\n",
              "num_file_creations             0\n",
              "num_shells                     0\n",
              "num_access_files               0\n",
              "num_outbound_cmds              0\n",
              "is_host_login                  0\n",
              "is_guest_login                 0\n",
              "count                          0\n",
              "srv_count                      0\n",
              "serror_rate                    0\n",
              "srv_serror_rate                0\n",
              "rerror_rate                    0\n",
              "srv_rerror_rate                0\n",
              "same_srv_rate                  0\n",
              "diff_srv_rate                  0\n",
              "srv_diff_host_rate             0\n",
              "dst_host_count                 0\n",
              "dst_host_srv_count             0\n",
              "dst_host_same_srv_rate         0\n",
              "dst_host_diff_srv_rate         0\n",
              "dst_host_same_src_port_rate    0\n",
              "dst_host_srv_diff_host_rate    0\n",
              "dst_host_serror_rate           0\n",
              "dst_host_srv_serror_rate       0\n",
              "dst_host_rerror_rate           0\n",
              "dst_host_srv_rerror_rate       0\n",
              "class                          0\n",
              "dtype: int64"
            ]
          },
          "metadata": {},
          "execution_count": 27
        }
      ]
    },
    {
      "cell_type": "code",
      "source": [
        "total = train.shape[0]\n",
        "missing_columns = [col for col in train.columns if train[col].isnull().sum() > 0]\n",
        "for col in missing_columns:\n",
        "    null_count = train[col].isnull().sum()\n",
        "    per = (null_count/total) * 100\n",
        "    print(f\"{col}: {null_count} ({round(per, 3)}%)\")"
      ],
      "metadata": {
        "id": "T-3XMQlttSWe"
      },
      "execution_count": null,
      "outputs": []
    },
    {
      "cell_type": "code",
      "source": [
        "print(f\"Number of duplicate rows: {train.duplicated().sum()}\")"
      ],
      "metadata": {
        "colab": {
          "base_uri": "https://localhost:8080/"
        },
        "id": "g4OO3ncMtS6e",
        "outputId": "ea4b0a8f-6cc2-4dba-84cc-000c8474ec66"
      },
      "execution_count": null,
      "outputs": [
        {
          "output_type": "stream",
          "name": "stdout",
          "text": [
            "Number of duplicate rows: 0\n"
          ]
        }
      ]
    },
    {
      "cell_type": "code",
      "source": [
        "sns.countplot(x=train['class'])"
      ],
      "metadata": {
        "colab": {
          "base_uri": "https://localhost:8080/",
          "height": 469
        },
        "id": "jMa9uwVctVSO",
        "outputId": "8a481ed2-4757-41d9-f475-94e196b7d058"
      },
      "execution_count": null,
      "outputs": [
        {
          "output_type": "execute_result",
          "data": {
            "text/plain": [
              "<Axes: xlabel='class', ylabel='count'>"
            ]
          },
          "metadata": {},
          "execution_count": 30
        },
        {
          "output_type": "display_data",
          "data": {
            "text/plain": [
              "<Figure size 640x480 with 1 Axes>"
            ],
            "image/png": "[encoded data removed]"
          },
          "metadata": {}
        }
      ]
    },
    {
      "cell_type": "code",
      "source": [
        "print('Class distribution Training set:')\n",
        "print(train['class'].value_counts())"
      ],
      "metadata": {
        "colab": {
          "base_uri": "https://localhost:8080/"
        },
        "id": "TBgMacDvtZJm",
        "outputId": "74ce6f32-541e-42ba-dd52-0aaded788074"
      },
      "execution_count": null,
      "outputs": [
        {
          "output_type": "stream",
          "name": "stdout",
          "text": [
            "Class distribution Training set:\n",
            "normal     13449\n",
            "anomaly    11743\n",
            "Name: class, dtype: int64\n"
          ]
        }
      ]
    },
    {
      "cell_type": "markdown",
      "source": [
        "**Encoding**"
      ],
      "metadata": {
        "id": "lcD2mWk5j4dt"
      }
    },
    {
      "cell_type": "code",
      "source": [
        "def le(df):\n",
        "    for col in df.columns:\n",
        "        if df[col].dtype == 'object':\n",
        "                label_encoder = LabelEncoder()\n",
        "                df[col] = label_encoder.fit_transform(df[col])\n",
        "\n",
        "le(train)\n",
        "le(test)\n",
        ""
      ],
      "metadata": {
        "id": "l6wVuDegtbav"
      },
      "execution_count": null,
      "outputs": []
    },
    {
      "cell_type": "code",
      "source": [
        "train.drop(['num_outbound_cmds'], axis=1, inplace=True)\n",
        "test.drop(['num_outbound_cmds'], axis=1, inplace=True)"
      ],
      "metadata": {
        "id": "yZ6DmgzTtckO"
      },
      "execution_count": null,
      "outputs": []
    },
    {
      "cell_type": "code",
      "source": [
        "train.head()"
      ],
      "metadata": {
        "colab": {
          "base_uri": "https://localhost:8080/",
          "height": 299
        },
        "id": "cbYUNKVvteHe",
        "outputId": "87cfdb72-3d37-4aac-fc51-1a327aba2295"
      },
      "execution_count": null,
      "outputs": [
        {
          "output_type": "execute_result",
          "data": {
            "text/plain": [
              "   duration  protocol_type  service  flag  src_bytes  dst_bytes  land  \\\n",
              "0         0              1       19     9        491          0     0   \n",
              "1         0              2       41     9        146          0     0   \n",
              "2         0              1       46     5          0          0     0   \n",
              "3         0              1       22     9        232       8153     0   \n",
              "4         0              1       22     9        199        420     0   \n",
              "\n",
              "   wrong_fragment  urgent  hot  ...  dst_host_srv_count  \\\n",
              "0               0       0    0  ...                  25   \n",
              "1               0       0    0  ...                   1   \n",
              "2               0       0    0  ...                  26   \n",
              "3               0       0    0  ...                 255   \n",
              "4               0       0    0  ...                 255   \n",
              "\n",
              "   dst_host_same_srv_rate  dst_host_diff_srv_rate  \\\n",
              "0                    0.17                    0.03   \n",
              "1                    0.00                    0.60   \n",
              "2                    0.10                    0.05   \n",
              "3                    1.00                    0.00   \n",
              "4                    1.00                    0.00   \n",
              "\n",
              "   dst_host_same_src_port_rate  dst_host_srv_diff_host_rate  \\\n",
              "0                         0.17                         0.00   \n",
              "1                         0.88                         0.00   \n",
              "2                         0.00                         0.00   \n",
              "3                         0.03                         0.04   \n",
              "4                         0.00                         0.00   \n",
              "\n",
              "   dst_host_serror_rate  dst_host_srv_serror_rate  dst_host_rerror_rate  \\\n",
              "0                  0.00                      0.00                  0.05   \n",
              "1                  0.00                      0.00                  0.00   \n",
              "2                  1.00                      1.00                  0.00   \n",
              "3                  0.03                      0.01                  0.00   \n",
              "4                  0.00                      0.00                  0.00   \n",
              "\n",
              "   dst_host_srv_rerror_rate  class  \n",
              "0                      0.00      1  \n",
              "1                      0.00      1  \n",
              "2                      0.00      0  \n",
              "3                      0.01      1  \n",
              "4                      0.00      1  \n",
              "\n",
              "[5 rows x 41 columns]"
            ],
            "text/html": [
              "\n",
              "  <div id=\"df-fe44886a-7943-4545-bfb1-e3dc791ea123\">\n",
              "    <div class=\"colab-df-container\">\n",
              "      <div>\n",
              "<style scoped>\n",
              "    .dataframe tbody tr th:only-of-type {\n",
              "        vertical-align: middle;\n",
              "    }\n",
              "\n",
              "    .dataframe tbody tr th {\n",
              "        vertical-align: top;\n",
              "    }\n",
              "\n",
              "    .dataframe thead th {\n",
              "        text-align: right;\n",
              "    }\n",
              "</style>\n",
              "<table border=\"1\" class=\"dataframe\">\n",
              "  <thead>\n",
              "    <tr style=\"text-align: right;\">\n",
              "      <th></th>\n",
              "      <th>duration</th>\n",
              "      <th>protocol_type</th>\n",
              "      <th>service</th>\n",
              "      <th>flag</th>\n",
              "      <th>src_bytes</th>\n",
              "      <th>dst_bytes</th>\n",
              "      <th>land</th>\n",
              "      <th>wrong_fragment</th>\n",
              "      <th>urgent</th>\n",
              "      <th>hot</th>\n",
              "      <th>...</th>\n",
              "      <th>dst_host_srv_count</th>\n",
              "      <th>dst_host_same_srv_rate</th>\n",
              "      <th>dst_host_diff_srv_rate</th>\n",
              "      <th>dst_host_same_src_port_rate</th>\n",
              "      <th>dst_host_srv_diff_host_rate</th>\n",
              "      <th>dst_host_serror_rate</th>\n",
              "      <th>dst_host_srv_serror_rate</th>\n",
              "      <th>dst_host_rerror_rate</th>\n",
              "      <th>dst_host_srv_rerror_rate</th>\n",
              "      <th>class</th>\n",
              "    </tr>\n",
              "  </thead>\n",
              "  <tbody>\n",
              "    <tr>\n",
              "      <th>0</th>\n",
              "      <td>0</td>\n",
              "      <td>1</td>\n",
              "      <td>19</td>\n",
              "      <td>9</td>\n",
              "      <td>491</td>\n",
              "      <td>0</td>\n",
              "      <td>0</td>\n",
              "      <td>0</td>\n",
              "      <td>0</td>\n",
              "      <td>0</td>\n",
              "      <td>...</td>\n",
              "      <td>25</td>\n",
              "      <td>0.17</td>\n",
              "      <td>0.03</td>\n",
              "      <td>0.17</td>\n",
              "      <td>0.00</td>\n",
              "      <td>0.00</td>\n",
              "      <td>0.00</td>\n",
              "      <td>0.05</td>\n",
              "      <td>0.00</td>\n",
              "      <td>1</td>\n",
              "    </tr>\n",
              "    <tr>\n",
              "      <th>1</th>\n",
              "      <td>0</td>\n",
              "      <td>2</td>\n",
              "      <td>41</td>\n",
              "      <td>9</td>\n",
              "      <td>146</td>\n",
              "      <td>0</td>\n",
              "      <td>0</td>\n",
              "      <td>0</td>\n",
              "      <td>0</td>\n",
              "      <td>0</td>\n",
              "      <td>...</td>\n",
              "      <td>1</td>\n",
              "      <td>0.00</td>\n",
              "      <td>0.60</td>\n",
              "      <td>0.88</td>\n",
              "      <td>0.00</td>\n",
              "      <td>0.00</td>\n",
              "      <td>0.00</td>\n",
              "      <td>0.00</td>\n",
              "      <td>0.00</td>\n",
              "      <td>1</td>\n",
              "    </tr>\n",
              "    <tr>\n",
              "      <th>2</th>\n",
              "      <td>0</td>\n",
              "      <td>1</td>\n",
              "      <td>46</td>\n",
              "      <td>5</td>\n",
              "      <td>0</td>\n",
              "      <td>0</td>\n",
              "      <td>0</td>\n",
              "      <td>0</td>\n",
              "      <td>0</td>\n",
              "      <td>0</td>\n",
              "      <td>...</td>\n",
              "      <td>26</td>\n",
              "      <td>0.10</td>\n",
              "      <td>0.05</td>\n",
              "      <td>0.00</td>\n",
              "      <td>0.00</td>\n",
              "      <td>1.00</td>\n",
              "      <td>1.00</td>\n",
              "      <td>0.00</td>\n",
              "      <td>0.00</td>\n",
              "      <td>0</td>\n",
              "    </tr>\n",
              "    <tr>\n",
              "      <th>3</th>\n",
              "      <td>0</td>\n",
              "      <td>1</td>\n",
              "      <td>22</td>\n",
              "      <td>9</td>\n",
              "      <td>232</td>\n",
              "      <td>8153</td>\n",
              "      <td>0</td>\n",
              "      <td>0</td>\n",
              "      <td>0</td>\n",
              "      <td>0</td>\n",
              "      <td>...</td>\n",
              "      <td>255</td>\n",
              "      <td>1.00</td>\n",
              "      <td>0.00</td>\n",
              "      <td>0.03</td>\n",
              "      <td>0.04</td>\n",
              "      <td>0.03</td>\n",
              "      <td>0.01</td>\n",
              "      <td>0.00</td>\n",
              "      <td>0.01</td>\n",
              "      <td>1</td>\n",
              "    </tr>\n",
              "    <tr>\n",
              "      <th>4</th>\n",
              "      <td>0</td>\n",
              "      <td>1</td>\n",
              "      <td>22</td>\n",
              "      <td>9</td>\n",
              "      <td>199</td>\n",
              "      <td>420</td>\n",
              "      <td>0</td>\n",
              "      <td>0</td>\n",
              "      <td>0</td>\n",
              "      <td>0</td>\n",
              "      <td>...</td>\n",
              "      <td>255</td>\n",
              "      <td>1.00</td>\n",
              "      <td>0.00</td>\n",
              "      <td>0.00</td>\n",
              "      <td>0.00</td>\n",
              "      <td>0.00</td>\n",
              "      <td>0.00</td>\n",
              "      <td>0.00</td>\n",
              "      <td>0.00</td>\n",
              "      <td>1</td>\n",
              "    </tr>\n",
              "  </tbody>\n",
              "</table>\n",
              "<p>5 rows × 41 columns</p>\n",
              "</div>\n",
              "      <button class=\"colab-df-convert\" onclick=\"convertToInteractive('df-fe44886a-7943-4545-bfb1-e3dc791ea123')\"\n",
              "              title=\"Convert this dataframe to an interactive table.\"\n",
              "              style=\"display:none;\">\n",
              "        \n",
              "  <svg xmlns=\"http://www.w3.org/2000/svg\" height=\"24px\"viewBox=\"0 0 24 24\"\n",
              "       width=\"24px\">\n",
              "    <path d=\"M0 0h24v24H0V0z\" fill=\"none\"/>\n",
              "    <path d=\"M18.56 5.44l.94 2.06.94-2.06 2.06-.94-2.06-.94-.94-2.06-.94 2.06-2.06.94zm-11 1L8.5 8.5l.94-2.06 2.06-.94-2.06-.94L8.5 2.5l-.94 2.06-2.06.94zm10 10l.94 2.06.94-2.06 2.06-.94-2.06-.94-.94-2.06-.94 2.06-2.06.94z\"/><path d=\"M17.41 7.96l-1.37-1.37c-.4-.4-.92-.59-1.43-.59-.52 0-1.04.2-1.43.59L10.3 9.45l-7.72 7.72c-.78.78-.78 2.05 0 2.83L4 21.41c.39.39.9.59 1.41.59.51 0 1.02-.2 1.41-.59l7.78-7.78 2.81-2.81c.8-.78.8-2.07 0-2.86zM5.41 20L4 18.59l7.72-7.72 1.47 1.35L5.41 20z\"/>\n",
              "  </svg>\n",
              "      </button>\n",
              "      \n",
              "  <style>\n",
              "    .colab-df-container {\n",
              "      display:flex;\n",
              "      flex-wrap:wrap;\n",
              "      gap: 12px;\n",
              "    }\n",
              "\n",
              "    .colab-df-convert {\n",
              "      background-color: #E8F0FE;\n",
              "      border: none;\n",
              "      border-radius: 50%;\n",
              "      cursor: pointer;\n",
              "      display: none;\n",
              "      fill: #1967D2;\n",
              "      height: 32px;\n",
              "      padding: 0 0 0 0;\n",
              "      width: 32px;\n",
              "    }\n",
              "\n",
              "    .colab-df-convert:hover {\n",
              "      background-color: #E2EBFA;\n",
              "      box-shadow: 0px 1px 2px rgba(60, 64, 67, 0.3), 0px 1px 3px 1px rgba(60, 64, 67, 0.15);\n",
              "      fill: #174EA6;\n",
              "    }\n",
              "\n",
              "    [theme=dark] .colab-df-convert {\n",
              "      background-color: #3B4455;\n",
              "      fill: #D2E3FC;\n",
              "    }\n",
              "\n",
              "    [theme=dark] .colab-df-convert:hover {\n",
              "      background-color: #434B5C;\n",
              "      box-shadow: 0px 1px 3px 1px rgba(0, 0, 0, 0.15);\n",
              "      filter: drop-shadow(0px 1px 2px rgba(0, 0, 0, 0.3));\n",
              "      fill: #FFFFFF;\n",
              "    }\n",
              "  </style>\n",
              "\n",
              "      <script>\n",
              "        const buttonEl =\n",
              "          document.querySelector('#df-fe44886a-7943-4545-bfb1-e3dc791ea123 button.colab-df-convert');\n",
              "        buttonEl.style.display =\n",
              "          google.colab.kernel.accessAllowed ? 'block' : 'none';\n",
              "\n",
              "        async function convertToInteractive(key) {\n",
              "          const element = document.querySelector('#df-fe44886a-7943-4545-bfb1-e3dc791ea123');\n",
              "          const dataTable =\n",
              "            await google.colab.kernel.invokeFunction('convertToInteractive',\n",
              "                                                     [key], {});\n",
              "          if (!dataTable) return;\n",
              "\n",
              "          const docLinkHtml = 'Like what you see? Visit the ' +\n",
              "            '<a target=\"_blank\" href=https://colab.research.google.com/notebooks/data_table.ipynb>data table notebook</a>'\n",
              "            + ' to learn more about interactive tables.';\n",
              "          element.innerHTML = '';\n",
              "          dataTable['output_type'] = 'display_data';\n",
              "          await google.colab.output.renderOutput(dataTable, element);\n",
              "          const docLink = document.createElement('div');\n",
              "          docLink.innerHTML = docLinkHtml;\n",
              "          element.appendChild(docLink);\n",
              "        }\n",
              "      </script>\n",
              "    </div>\n",
              "  </div>\n",
              "  "
            ]
          },
          "metadata": {},
          "execution_count": 34
        }
      ]
    },
    {
      "cell_type": "code",
      "source": [
        "def expand_categories(values):\n",
        "    result = []\n",
        "    s = values.value_counts()\n",
        "    t = float(len(values))\n",
        "    for v in s.index:\n",
        "        result.append(\"{}:{}%\".format(v,round(100*(s[v]/t),2)))\n",
        "    return \"[{}]\".format(\",\".join(result))\n",
        "\n",
        "def analyze(df):\n",
        "    print()\n",
        "    cols = df.columns.values\n",
        "    total = float(len(df))\n",
        "\n",
        "    print(\"{} rows\".format(int(total)))\n",
        "    for col in cols:\n",
        "        uniques = df[col].unique()\n",
        "        unique_count = len(uniques)\n",
        "        if unique_count>100:\n",
        "            print(\"** {}:{} ({}%)\".format(col,unique_count,\\\n",
        "                int(((unique_count)/total)*100)))\n",
        "        else:\n",
        "            print(\"** {}:{}\".format(col,expand_categories(df[col])))\n",
        "            expand_categories(df[col])"
      ],
      "metadata": {
        "id": "u8to3BDjZujk"
      },
      "execution_count": null,
      "outputs": []
    },
    {
      "cell_type": "code",
      "source": [
        "analyze(train)"
      ],
      "metadata": {
        "id": "45Gznr2iZ2lZ",
        "colab": {
          "base_uri": "https://localhost:8080/"
        },
        "outputId": "7180012c-aa66-4fa2-ed90-dfec6a691106"
      },
      "execution_count": null,
      "outputs": [
        {
          "output_type": "stream",
          "name": "stdout",
          "text": [
            "\n",
            "25192 rows\n",
            "** duration:758 (3%)\n",
            "** protocol_type:[1:81.48%,2:11.95%,0:6.57%]\n",
            "** service:[22:31.77%,46:17.27%,11:7.22%,51:5.75%,19:5.54%,13:3.61%,41:3.41%,14:2.43%,57:1.92%,17:1.45%,18:1.37%,3:0.75%,2:0.68%,5:0.65%,62:0.62%,59:0.62%,4:0.58%,65:0.58%,25:0.55%,63:0.53%,26:0.52%,7:0.5%,61:0.49%,38:0.49%,55:0.45%,23:0.45%,6:0.44%,15:0.44%,10:0.43%,20:0.43%,8:0.42%,64:0.42%,9:0.42%,21:0.38%,33:0.37%,27:0.37%,16:0.36%,29:0.36%,32:0.36%,56:0.35%,34:0.34%,30:0.34%,31:0.31%,37:0.31%,35:0.3%,36:0.27%,54:0.27%,28:0.27%,12:0.26%,39:0.24%,53:0.23%,44:0.21%,52:0.18%,0:0.16%,40:0.13%,1:0.09%,49:0.08%,48:0.07%,43:0.07%,45:0.05%,50:0.04%,60:0.02%,47:0.01%,42:0.01%,58:0.01%,24:0.0%]\n",
            "** flag:[9:59.44%,5:27.82%,1:8.8%,4:1.97%,2:1.21%,6:0.35%,10:0.17%,3:0.08%,7:0.08%,8:0.06%,0:0.02%]\n",
            "** src_bytes:1665 (6%)\n",
            "** dst_bytes:3922 (15%)\n",
            "** land:[0:99.99%,1:0.01%]\n",
            "** wrong_fragment:[0:99.11%,3:0.74%,1:0.15%]\n",
            "** urgent:[0:100.0%,1:0.0%]\n",
            "** hot:[0:97.94%,2:0.79%,1:0.31%,30:0.22%,28:0.21%,4:0.15%,6:0.1%,5:0.07%,22:0.05%,24:0.04%,19:0.03%,3:0.03%,18:0.02%,14:0.01%,7:0.01%,15:0.0%,25:0.0%,77:0.0%,17:0.0%,11:0.0%,20:0.0%,12:0.0%]\n",
            "** num_failed_logins:[0:99.91%,1:0.08%,2:0.01%,3:0.0%,4:0.0%]\n",
            "** logged_in:[0:60.52%,1:39.48%]\n",
            "** num_compromised:[0:98.92%,1:0.77%,2:0.08%,4:0.05%,6:0.03%,3:0.03%,5:0.02%,7:0.01%,151:0.01%,12:0.01%,83:0.0%,558:0.0%,789:0.0%,520:0.0%,884:0.0%,217:0.0%,371:0.0%,193:0.0%,31:0.0%,13:0.0%,157:0.0%,9:0.0%,110:0.0%,462:0.0%,107:0.0%,38:0.0%,19:0.0%,457:0.0%]\n",
            "** root_shell:[0:99.85%,1:0.15%]\n",
            "** su_attempted:[0:99.92%,2:0.05%,1:0.03%]\n",
            "** num_root:[0:99.47%,1:0.19%,9:0.1%,6:0.09%,2:0.04%,5:0.02%,4:0.01%,3:0.01%,14:0.0%,100:0.0%,975:0.0%,10:0.0%,572:0.0%,867:0.0%,191:0.0%,91:0.0%,247:0.0%,146:0.0%,417:0.0%,629:0.0%,7:0.0%,179:0.0%,54:0.0%,38:0.0%,151:0.0%,121:0.0%,512:0.0%,508:0.0%]\n",
            "** num_file_creations:[0:99.74%,1:0.15%,2:0.03%,4:0.01%,8:0.01%,18:0.01%,5:0.01%,21:0.0%,11:0.0%,20:0.0%,3:0.0%,40:0.0%,17:0.0%,6:0.0%,14:0.0%,19:0.0%,29:0.0%,13:0.0%,15:0.0%,38:0.0%]\n",
            "** num_shells:[0:99.96%,1:0.04%]\n",
            "** num_access_files:[0:99.69%,1:0.26%,2:0.03%,3:0.01%,5:0.01%,4:0.0%,8:0.0%]\n",
            "** is_host_login:[0:100.0%]\n",
            "** is_guest_login:[0:99.09%,1:0.91%]\n",
            "** count:466 (1%)\n",
            "** srv_count:414 (1%)\n",
            "** serror_rate:[0.0:68.79%,1.0:27.55%,0.5:0.48%,0.07:0.21%,0.06:0.2%,0.05:0.2%,0.33:0.19%,0.01:0.18%,0.08:0.18%,0.25:0.17%,0.99:0.16%,0.09:0.15%,0.2:0.15%,0.03:0.12%,0.04:0.12%,0.17:0.11%,0.1:0.09%,0.11:0.08%,0.14:0.07%,0.02:0.06%,0.97:0.06%,0.12:0.06%,0.98:0.05%,0.16:0.04%,0.13:0.03%,0.96:0.03%,0.22:0.03%,0.18:0.02%,0.95:0.02%,0.93:0.02%,0.15:0.02%,0.21:0.02%,0.64:0.02%,0.19:0.02%,0.23:0.02%,0.75:0.01%,0.66:0.01%,0.71:0.01%,0.88:0.01%,0.7:0.01%,0.86:0.01%,0.68:0.01%,0.94:0.01%,0.77:0.01%,0.61:0.01%,0.81:0.01%,0.69:0.01%,0.65:0.01%,0.92:0.01%,0.9:0.01%,0.79:0.01%,0.6:0.01%,0.44:0.01%,0.73:0.01%,0.83:0.01%,0.78:0.01%,0.52:0.01%,0.63:0.01%,0.67:0.01%,0.4:0.01%,0.62:0.01%,0.85:0.0%,0.72:0.0%,0.36:0.0%,0.24:0.0%,0.26:0.0%,0.55:0.0%,0.91:0.0%,0.59:0.0%,0.74:0.0%]\n",
            "** srv_serror_rate:[0.0:70.29%,1.0:27.8%,0.5:0.37%,0.33:0.2%,0.25:0.17%,0.2:0.13%,0.05:0.1%,0.17:0.09%,0.03:0.08%,0.04:0.08%,0.07:0.06%,0.02:0.05%,0.67:0.05%,0.09:0.04%,0.1:0.04%,0.08:0.04%,0.06:0.04%,0.12:0.04%,0.95:0.04%,0.14:0.04%,0.11:0.03%,0.4:0.02%,0.9:0.02%,0.22:0.02%,0.8:0.01%,0.91:0.01%,0.89:0.01%,0.92:0.01%,0.29:0.01%,0.76:0.01%,0.18:0.01%,0.45:0.0%,0.13:0.0%,0.65:0.0%,0.75:0.0%,0.39:0.0%,0.59:0.0%,0.46:0.0%,0.88:0.0%,0.83:0.0%,0.26:0.0%,0.41:0.0%,0.74:0.0%,0.01:0.0%,0.86:0.0%,0.94:0.0%,0.93:0.0%,0.57:0.0%,0.6:0.0%,0.34:0.0%,0.36:0.0%,0.55:0.0%,0.53:0.0%,0.78:0.0%,0.43:0.0%,0.15:0.0%]\n",
            "** rerror_rate:[0.0:87.27%,1.0:10.13%,0.9:0.17%,0.89:0.15%,0.91:0.15%,0.92:0.15%,0.95:0.15%,0.5:0.14%,0.93:0.13%,0.94:0.12%,0.88:0.1%,0.03:0.08%,0.25:0.07%,0.33:0.07%,0.02:0.06%,0.87:0.06%,0.86:0.05%,0.96:0.04%,0.85:0.04%,0.79:0.04%,0.82:0.04%,0.04:0.04%,0.2:0.04%,0.67:0.04%,0.07:0.03%,0.01:0.03%,0.05:0.03%,0.17:0.03%,0.97:0.03%,0.84:0.03%,0.83:0.03%,0.8:0.02%,0.12:0.02%,0.99:0.02%,0.75:0.02%,0.81:0.02%,0.76:0.02%,0.08:0.02%,0.4:0.02%,0.78:0.02%,0.29:0.02%,0.77:0.02%,0.62:0.02%,0.36:0.02%,0.56:0.01%,0.1:0.01%,0.64:0.01%,0.34:0.01%,0.23:0.01%,0.31:0.01%,0.6:0.01%,0.14:0.01%,0.22:0.01%,0.37:0.01%,0.74:0.01%,0.38:0.01%,0.3:0.01%,0.98:0.01%,0.43:0.01%,0.35:0.01%,0.27:0.01%,0.71:0.01%,0.06:0.01%,0.19:0.0%,0.73:0.0%,0.69:0.0%,0.26:0.0%,0.09:0.0%,0.44:0.0%,0.21:0.0%,0.32:0.0%,0.57:0.0%]\n",
            "** srv_rerror_rate:[0.0:87.17%,1.0:11.66%,0.5:0.22%,0.33:0.13%,0.25:0.1%,0.17:0.07%,0.2:0.06%,0.04:0.06%,0.08:0.04%,0.67:0.04%,0.14:0.04%,0.06:0.04%,0.02:0.04%,0.05:0.03%,0.03:0.03%,0.1:0.03%,0.07:0.03%,0.12:0.02%,0.75:0.02%,0.62:0.02%,0.83:0.01%,0.4:0.01%,0.29:0.01%,0.8:0.01%,0.11:0.01%,0.43:0.01%,0.6:0.01%,0.81:0.01%,0.64:0.01%,0.09:0.01%,0.79:0.01%,0.71:0.01%,0.56:0.0%,0.84:0.0%,0.74:0.0%,0.38:0.0%,0.85:0.0%,0.15:0.0%,0.69:0.0%,0.73:0.0%,0.76:0.0%,0.57:0.0%]\n",
            "** same_srv_rate:[1.0:60.96%,0.01:3.28%,0.02:2.82%,0.06:2.7%,0.03:2.69%,0.07:2.66%,0.04:2.61%,0.08:2.39%,0.05:2.34%,0.0:2.16%,0.09:1.58%,0.5:1.39%,0.1:1.1%,0.14:0.97%,0.11:0.96%,0.13:0.96%,0.12:0.92%,0.99:0.58%,0.15:0.55%,0.33:0.53%,0.16:0.52%,0.17:0.52%,0.25:0.46%,0.2:0.44%,0.18:0.32%,0.24:0.25%,0.19:0.25%,0.22:0.24%,0.21:0.19%,0.23:0.18%,0.67:0.15%,0.26:0.15%,0.28:0.12%,0.3:0.11%,0.29:0.1%,0.27:0.1%,0.4:0.1%,0.32:0.1%,0.31:0.09%,0.44:0.08%,0.43:0.07%,0.98:0.07%,0.35:0.07%,0.36:0.06%,0.75:0.06%,0.39:0.05%,0.42:0.05%,0.38:0.04%,0.6:0.04%,0.41:0.04%,0.97:0.04%,0.93:0.04%,0.46:0.04%,0.37:0.04%,0.62:0.03%,0.52:0.03%,0.88:0.03%,0.45:0.03%,0.47:0.03%,0.83:0.03%,0.34:0.03%,0.92:0.02%,0.64:0.02%,0.9:0.02%,0.48:0.02%,0.86:0.02%,0.8:0.02%,0.53:0.02%,0.55:0.02%,0.71:0.02%,0.69:0.02%,0.96:0.02%,0.89:0.02%,0.73:0.02%,0.56:0.02%,0.94:0.01%,0.95:0.01%,0.59:0.01%,0.49:0.01%,0.54:0.01%,0.57:0.01%,0.63:0.01%,0.77:0.01%,0.79:0.01%,0.65:0.01%,0.91:0.01%,0.58:0.01%,0.74:0.01%,0.72:0.01%,0.51:0.01%,0.85:0.0%,0.87:0.0%,0.78:0.0%,0.7:0.0%,0.61:0.0%,0.82:0.0%,0.81:0.0%]\n",
            "** diff_srv_rate:[0.0:60.52%,0.06:15.33%,0.07:7.73%,0.05:5.36%,1.0:2.63%,0.08:1.48%,0.01:0.77%,0.04:0.52%,0.09:0.48%,0.5:0.46%,0.67:0.39%,0.11:0.29%,0.12:0.29%,0.1:0.29%,0.6:0.22%,0.33:0.2%,0.02:0.19%,0.03:0.19%,0.25:0.17%,0.14:0.17%,0.4:0.16%,0.17:0.16%,0.13:0.15%,0.29:0.15%,0.15:0.14%,0.52:0.12%,0.18:0.12%,0.22:0.11%,0.2:0.1%,0.38:0.09%,0.75:0.08%,0.19:0.06%,0.16:0.06%,0.21:0.06%,0.27:0.05%,0.95:0.05%,0.99:0.04%,0.31:0.04%,0.36:0.04%,0.43:0.04%,0.42:0.04%,0.54:0.04%,0.96:0.03%,0.41:0.03%,0.23:0.03%,0.24:0.03%,0.37:0.02%,0.53:0.02%,0.3:0.02%,0.32:0.02%,0.44:0.02%,0.57:0.02%,0.55:0.02%,0.28:0.02%,0.26:0.01%,0.39:0.01%,0.35:0.01%,0.98:0.01%,0.78:0.01%,0.46:0.01%,0.83:0.01%,0.45:0.01%,0.51:0.01%,0.73:0.01%,0.8:0.01%,0.97:0.0%,0.82:0.0%,0.64:0.0%,0.79:0.0%,0.58:0.0%,0.61:0.0%,0.62:0.0%,0.63:0.0%,0.69:0.0%,0.76:0.0%,0.59:0.0%,0.77:0.0%,0.56:0.0%,0.7:0.0%]\n",
            "** srv_diff_host_rate:[0.0:77.47%,1.0:6.19%,0.01:2.33%,0.67:0.83%,0.5:0.77%,0.12:0.67%,0.33:0.66%,0.25:0.65%,0.02:0.61%,0.11:0.57%,0.1:0.55%,0.29:0.51%,0.18:0.51%,0.17:0.51%,0.08:0.49%,0.4:0.49%,0.2:0.48%,0.14:0.48%,0.06:0.47%,0.09:0.44%,0.07:0.44%,0.15:0.44%,0.22:0.44%,0.13:0.32%,0.05:0.23%,0.75:0.23%,0.19:0.23%,0.21:0.19%,0.16:0.18%,0.23:0.17%,0.27:0.17%,0.6:0.16%,0.03:0.16%,0.04:0.15%,0.43:0.13%,0.3:0.12%,0.38:0.11%,0.36:0.08%,0.8:0.06%,0.31:0.04%,0.24:0.04%,0.44:0.03%,0.57:0.03%,0.28:0.02%,0.42:0.02%,0.26:0.02%,0.56:0.02%,0.45:0.01%,0.62:0.01%,0.71:0.01%,0.32:0.01%,0.35:0.01%,0.37:0.01%,0.83:0.0%,0.55:0.0%,0.88:0.0%,0.47:0.0%]\n",
            "** dst_host_count:256 (1%)\n",
            "** dst_host_srv_count:256 (1%)\n",
            "** dst_host_same_srv_rate:101 (0%)\n",
            "** dst_host_diff_srv_rate:101 (0%)\n",
            "** dst_host_same_src_port_rate:101 (0%)\n",
            "** dst_host_srv_diff_host_rate:[0.0:69.02%,0.02:6.4%,0.01:5.83%,0.03:3.77%,0.04:3.45%,0.05:2.41%,0.5:1.26%,0.06:1.05%,0.07:0.85%,0.25:0.81%,1.0:0.52%,0.51:0.47%,0.08:0.35%,0.26:0.3%,0.09:0.28%,0.1:0.24%,0.11:0.21%,0.13:0.19%,0.14:0.18%,0.17:0.18%,0.15:0.18%,0.18:0.18%,0.2:0.17%,0.52:0.15%,0.16:0.15%,0.12:0.14%,0.22:0.13%,0.21:0.12%,0.19:0.11%,0.33:0.1%,0.4:0.08%,0.27:0.07%,0.67:0.06%,0.29:0.06%,0.24:0.06%,0.23:0.05%,0.53:0.04%,0.54:0.04%,0.31:0.04%,0.56:0.03%,0.3:0.03%,0.28:0.03%,0.43:0.02%,0.57:0.02%,0.6:0.02%,0.55:0.02%,0.38:0.02%,0.44:0.01%,0.45:0.01%,0.75:0.01%,0.49:0.01%,0.37:0.01%,0.48:0.01%,0.35:0.01%,0.32:0.01%,0.34:0.0%,0.8:0.0%,0.97:0.0%,0.46:0.0%,0.36:0.0%,0.42:0.0%,0.39:0.0%,0.86:0.0%]\n",
            "** dst_host_serror_rate:[0.0:64.39%,1.0:26.75%,0.01:2.7%,0.02:0.94%,0.03:0.59%,0.04:0.33%,0.09:0.31%,0.08:0.27%,0.05:0.25%,0.99:0.23%,0.07:0.19%,0.1:0.17%,0.16:0.16%,0.98:0.14%,0.06:0.13%,0.11:0.12%,0.25:0.11%,0.33:0.1%,0.13:0.08%,0.5:0.08%,0.94:0.08%,0.12:0.08%,0.96:0.08%,0.97:0.07%,0.14:0.07%,0.2:0.07%,0.93:0.06%,0.95:0.06%,0.92:0.04%,0.62:0.04%,0.23:0.04%,0.17:0.04%,0.56:0.04%,0.89:0.04%,0.8:0.04%,0.27:0.03%,0.91:0.03%,0.73:0.03%,0.18:0.03%,0.15:0.03%,0.64:0.03%,0.67:0.03%,0.66:0.03%,0.82:0.03%,0.87:0.03%,0.55:0.03%,0.53:0.03%,0.31:0.02%,0.51:0.02%,0.9:0.02%,0.4:0.02%,0.24:0.02%,0.63:0.02%,0.75:0.02%,0.86:0.02%,0.35:0.02%,0.44:0.02%,0.29:0.02%,0.74:0.02%,0.22:0.02%,0.76:0.02%,0.21:0.02%,0.26:0.02%,0.47:0.02%,0.65:0.02%,0.58:0.02%,0.46:0.02%,0.57:0.02%,0.52:0.02%,0.34:0.02%,0.48:0.02%,0.19:0.02%,0.78:0.02%,0.43:0.01%,0.7:0.01%,0.85:0.01%,0.88:0.01%,0.37:0.01%,0.59:0.01%,0.84:0.01%,0.77:0.01%,0.68:0.01%,0.79:0.01%,0.39:0.01%,0.6:0.01%,0.81:0.01%,0.71:0.01%,0.69:0.01%,0.42:0.01%,0.36:0.01%,0.3:0.01%,0.49:0.01%,0.41:0.01%,0.45:0.01%,0.72:0.01%,0.28:0.0%,0.61:0.0%,0.32:0.0%,0.83:0.0%,0.54:0.0%]\n",
            "** dst_host_srv_serror_rate:[0.0:67.5%,1.0:27.24%,0.01:3.01%,0.02:0.54%,0.03:0.13%,0.5:0.1%,0.08:0.06%,0.12:0.06%,0.04:0.06%,0.05:0.06%,0.06:0.06%,0.07:0.06%,0.33:0.05%,0.96:0.05%,0.97:0.05%,0.11:0.05%,0.67:0.04%,0.09:0.04%,0.1:0.04%,0.91:0.04%,0.2:0.03%,0.94:0.03%,0.78:0.03%,0.93:0.03%,0.14:0.02%,0.29:0.02%,0.25:0.02%,0.95:0.02%,0.98:0.02%,0.85:0.02%,0.88:0.02%,0.79:0.02%,0.16:0.02%,0.92:0.02%,0.22:0.02%,0.56:0.02%,0.15:0.02%,0.4:0.02%,0.75:0.02%,0.65:0.01%,0.57:0.01%,0.49:0.01%,0.55:0.01%,0.27:0.01%,0.17:0.01%,0.62:0.01%,0.89:0.01%,0.76:0.01%,0.6:0.01%,0.69:0.01%,0.3:0.01%,0.19:0.01%,0.61:0.01%,0.48:0.01%,0.26:0.01%,0.9:0.01%,0.37:0.01%,0.18:0.01%,0.42:0.01%,0.74:0.01%,0.81:0.01%,0.28:0.01%,0.13:0.01%,0.31:0.01%,0.66:0.01%,0.7:0.01%,0.73:0.01%,0.41:0.01%,0.8:0.01%,0.36:0.0%,0.32:0.0%,0.83:0.0%,0.72:0.0%,0.38:0.0%,0.34:0.0%,0.86:0.0%,0.59:0.0%,0.23:0.0%,0.39:0.0%,0.35:0.0%,0.71:0.0%,0.45:0.0%,0.44:0.0%,0.77:0.0%,0.87:0.0%,0.84:0.0%,0.82:0.0%,0.24:0.0%]\n",
            "** dst_host_rerror_rate:101 (0%)\n",
            "** dst_host_srv_rerror_rate:[0.0:84.75%,1.0:10.39%,0.01:1.0%,0.02:0.49%,0.03:0.31%,0.04:0.27%,0.05:0.25%,0.06:0.14%,0.99:0.13%,0.98:0.12%,0.5:0.1%,0.97:0.08%,0.33:0.07%,0.08:0.07%,0.07:0.07%,0.96:0.07%,0.11:0.06%,0.67:0.04%,0.09:0.04%,0.8:0.04%,0.94:0.04%,0.78:0.04%,0.79:0.04%,0.12:0.04%,0.95:0.04%,0.89:0.04%,0.93:0.04%,0.65:0.04%,0.2:0.03%,0.4:0.03%,0.92:0.03%,0.86:0.03%,0.69:0.03%,0.87:0.03%,0.75:0.03%,0.91:0.03%,0.85:0.03%,0.88:0.03%,0.66:0.02%,0.19:0.02%,0.17:0.02%,0.76:0.02%,0.72:0.02%,0.52:0.02%,0.13:0.02%,0.14:0.02%,0.84:0.02%,0.59:0.02%,0.1:0.02%,0.55:0.02%,0.35:0.02%,0.47:0.02%,0.49:0.02%,0.82:0.02%,0.73:0.02%,0.71:0.02%,0.9:0.02%,0.16:0.02%,0.74:0.02%,0.62:0.02%,0.68:0.02%,0.15:0.02%,0.81:0.02%,0.45:0.02%,0.29:0.02%,0.25:0.02%,0.31:0.02%,0.56:0.02%,0.7:0.02%,0.6:0.02%,0.32:0.01%,0.57:0.01%,0.18:0.01%,0.24:0.01%,0.53:0.01%,0.34:0.01%,0.27:0.01%,0.22:0.01%,0.63:0.01%,0.42:0.01%,0.3:0.01%,0.58:0.01%,0.36:0.01%,0.83:0.01%,0.48:0.01%,0.51:0.01%,0.28:0.01%,0.37:0.01%,0.61:0.01%,0.41:0.01%,0.54:0.01%,0.64:0.01%,0.77:0.01%,0.26:0.0%,0.38:0.0%,0.39:0.0%,0.21:0.0%,0.44:0.0%,0.43:0.0%,0.46:0.0%]\n",
            "** class:[1:53.39%,0:46.61%]\n"
          ]
        }
      ]
    },
    {
      "cell_type": "code",
      "source": [
        "analyze(test)"
      ],
      "metadata": {
        "colab": {
          "base_uri": "https://localhost:8080/"
        },
        "id": "G_vuxPuAtt_3",
        "outputId": "3b891304-b424-4cc0-83e5-09e4d70af758"
      },
      "execution_count": null,
      "outputs": [
        {
          "output_type": "stream",
          "name": "stdout",
          "text": [
            "\n",
            "22544 rows\n",
            "** duration:624 (2%)\n",
            "** protocol_type:[1:83.75%,2:11.63%,0:4.63%]\n",
            "** service:[22:34.83%,45:21.18%,55:7.21%,43:4.52%,49:4.14%,11:3.97%,19:3.77%,40:3.72%,14:3.34%,18:3.07%,24:1.36%,13:1.16%,52:0.71%,17:0.6%,3:0.3%,10:0.23%,60:0.22%,25:0.21%,4:0.2%,61:0.2%,2:0.2%,62:0.19%,37:0.19%,7:0.18%,29:0.18%,63:0.18%,5:0.18%,32:0.16%,12:0.16%,23:0.16%,58:0.16%,34:0.16%,6:0.15%,20:0.15%,15:0.15%,31:0.14%,54:0.14%,30:0.13%,8:0.12%,53:0.12%,16:0.12%,36:0.12%,9:0.12%,51:0.12%,33:0.11%,27:0.11%,59:0.1%,21:0.1%,26:0.09%,38:0.09%,28:0.08%,50:0.08%,48:0.07%,41:0.07%,35:0.07%,1:0.07%,46:0.06%,42:0.06%,0:0.06%,44:0.05%,39:0.04%,47:0.04%,57:0.03%,56:0.0%]\n",
            "** flag:[9:65.98%,1:17.08%,5:8.93%,2:3.43%,4:2.97%,8:1.1%,10:0.32%,6:0.09%,7:0.07%,0:0.02%,3:0.01%]\n",
            "** src_bytes:1149 (5%)\n",
            "** dst_bytes:3650 (16%)\n",
            "** land:[0:99.97%,1:0.03%]\n",
            "** wrong_fragment:[0:99.56%,1:0.24%,3:0.2%]\n",
            "** urgent:[0:99.96%,1:0.02%,2:0.02%,3:0.0%]\n",
            "** hot:[0:95.53%,2:3.75%,1:0.4%,4:0.09%,3:0.05%,5:0.05%,7:0.04%,6:0.03%,18:0.01%,22:0.01%,10:0.01%,30:0.01%,11:0.0%,19:0.0%,101:0.0%,15:0.0%]\n",
            "** num_failed_logins:[0:97.88%,1:2.1%,3:0.01%,2:0.0%,4:0.0%]\n",
            "** logged_in:[0:55.78%,1:44.22%]\n",
            "** num_compromised:[0:98.36%,1:1.44%,2:0.05%,4:0.02%,8:0.02%,3:0.01%,5:0.01%,14:0.01%,49:0.01%,6:0.01%,57:0.0%,23:0.0%,36:0.0%,9:0.0%,796:0.0%,25:0.0%,381:0.0%,10:0.0%,15:0.0%,11:0.0%,165:0.0%,611:0.0%,7:0.0%]\n",
            "** root_shell:[0:99.76%,1:0.24%]\n",
            "** su_attempted:[0:99.98%,2:0.01%,1:0.01%]\n",
            "** num_root:[0:99.79%,1:0.06%,3:0.03%,4:0.03%,2:0.02%,7:0.01%,8:0.01%,173:0.0%,17:0.0%,23:0.0%,684:0.0%,145:0.0%,26:0.0%,401:0.0%,878:0.0%,31:0.0%,9:0.0%,45:0.0%,51:0.0%,5:0.0%]\n",
            "** num_file_creations:[0:99.81%,1:0.08%,2:0.04%,4:0.03%,3:0.02%,5:0.01%,100:0.0%,6:0.0%,7:0.0%]\n",
            "** num_shells:[0:99.92%,1:0.07%,2:0.01%,5:0.0%]\n",
            "** num_access_files:[0:99.68%,1:0.3%,2:0.01%,3:0.0%,4:0.0%]\n",
            "** is_host_login:[0:99.95%,1:0.05%]\n",
            "** is_guest_login:[0:97.16%,1:2.84%]\n",
            "** count:495 (2%)\n",
            "** srv_count:457 (2%)\n",
            "** serror_rate:[0.0:85.14%,1.0:9.33%,0.03:0.46%,0.02:0.42%,0.04:0.4%,0.01:0.39%,0.05:0.38%,0.06:0.32%,0.07:0.29%,0.08:0.28%,0.14:0.24%,0.15:0.23%,0.09:0.18%,0.17:0.16%,0.12:0.12%,0.16:0.11%,0.25:0.1%,0.5:0.1%,0.13:0.09%,0.33:0.09%,0.1:0.09%,0.11:0.08%,0.18:0.08%,0.2:0.04%,0.82:0.04%,0.85:0.04%,0.87:0.03%,0.79:0.03%,0.19:0.03%,0.8:0.03%,0.77:0.03%,0.84:0.02%,0.86:0.02%,0.24:0.02%,0.62:0.02%,0.81:0.02%,0.83:0.02%,0.68:0.02%,0.78:0.02%,0.67:0.02%,0.46:0.02%,0.48:0.02%,0.88:0.02%,0.3:0.02%,0.22:0.02%,0.89:0.01%,0.56:0.01%,0.35:0.01%,0.74:0.01%,0.38:0.01%,0.76:0.01%,0.61:0.01%,0.71:0.01%,0.59:0.01%,0.37:0.01%,0.75:0.01%,0.44:0.01%,0.27:0.01%,0.69:0.01%,0.63:0.01%,0.55:0.01%,0.4:0.01%,0.53:0.01%,0.26:0.01%,0.9:0.01%,0.21:0.01%,0.73:0.01%,0.72:0.01%,0.29:0.01%,0.42:0.01%,0.39:0.01%,0.31:0.01%,0.58:0.01%,0.32:0.01%,0.28:0.0%,0.23:0.0%,0.43:0.0%,0.51:0.0%,0.91:0.0%,0.64:0.0%,0.92:0.0%,0.57:0.0%,0.41:0.0%,0.34:0.0%,0.6:0.0%,0.36:0.0%,0.7:0.0%,0.45:0.0%]\n",
            "** srv_serror_rate:[0.0:87.08%,1.0:9.6%,0.03:0.36%,0.02:0.27%,0.33:0.19%,0.17:0.15%,0.2:0.14%,0.06:0.13%,0.25:0.12%,0.01:0.12%,0.12:0.11%,0.08:0.1%,0.11:0.1%,0.05:0.1%,0.04:0.1%,0.5:0.1%,0.1:0.09%,0.14:0.08%,0.07:0.08%,0.09:0.07%,0.18:0.06%,0.83:0.04%,0.22:0.04%,0.62:0.04%,0.4:0.03%,0.8:0.03%,0.87:0.03%,0.16:0.03%,0.67:0.03%,0.75:0.03%,0.15:0.03%,0.27:0.02%,0.19:0.02%,0.13:0.02%,0.56:0.02%,0.21:0.02%,0.38:0.02%,0.29:0.02%,0.57:0.02%,0.88:0.02%,0.6:0.02%,0.53:0.01%,0.64:0.01%,0.36:0.01%,0.84:0.01%,0.63:0.01%,0.86:0.01%,0.3:0.01%,0.85:0.01%,0.81:0.01%,0.71:0.01%,0.26:0.01%,0.73:0.01%,0.79:0.01%,0.44:0.01%,0.58:0.01%,0.94:0.01%,0.42:0.01%,0.65:0.01%,0.32:0.01%,0.24:0.01%,0.46:0.01%,0.82:0.01%,0.41:0.01%,0.9:0.01%,0.59:0.01%,0.39:0.01%,0.76:0.0%,0.48:0.0%,0.77:0.0%,0.89:0.0%,0.72:0.0%,0.92:0.0%,0.61:0.0%,0.37:0.0%,0.28:0.0%,0.93:0.0%,0.35:0.0%,0.55:0.0%,0.31:0.0%,0.78:0.0%,0.74:0.0%]\n",
            "** rerror_rate:[0.0:74.44%,1.0:18.56%,0.97:0.51%,0.5:0.5%,0.98:0.42%,0.96:0.4%,0.75:0.37%,0.95:0.36%,0.67:0.31%,0.93:0.31%,0.92:0.31%,0.94:0.28%,0.33:0.27%,0.99:0.23%,0.91:0.21%,0.83:0.2%,0.85:0.19%,0.86:0.19%,0.25:0.19%,0.8:0.15%,0.88:0.13%,0.9:0.12%,0.84:0.1%,0.82:0.09%,0.87:0.08%,0.89:0.08%,0.2:0.07%,0.6:0.05%,0.81:0.05%,0.4:0.04%,0.17:0.04%,0.18:0.03%,0.11:0.03%,0.15:0.03%,0.12:0.03%,0.21:0.03%,0.13:0.03%,0.23:0.03%,0.76:0.02%,0.14:0.02%,0.16:0.02%,0.22:0.02%,0.38:0.02%,0.79:0.02%,0.32:0.02%,0.52:0.02%,0.1:0.02%,0.7:0.02%,0.19:0.01%,0.29:0.01%,0.71:0.01%,0.58:0.01%,0.69:0.01%,0.65:0.01%,0.39:0.01%,0.44:0.01%,0.54:0.01%,0.78:0.01%,0.41:0.01%,0.24:0.01%,0.26:0.01%,0.62:0.01%,0.73:0.01%,0.57:0.01%,0.31:0.01%,0.37:0.01%,0.28:0.01%,0.27:0.01%,0.68:0.01%,0.63:0.01%,0.47:0.01%,0.59:0.01%,0.61:0.01%,0.42:0.01%,0.56:0.01%,0.66:0.0%,0.35:0.0%,0.49:0.0%,0.48:0.0%,0.34:0.0%,0.77:0.0%,0.08:0.0%,0.72:0.0%,0.64:0.0%,0.45:0.0%,0.74:0.0%,0.3:0.0%,0.36:0.0%,0.09:0.0%,0.55:0.0%]\n",
            "** srv_rerror_rate:[0.0:74.95%,1.0:20.84%,0.5:0.45%,0.97:0.34%,0.67:0.28%,0.98:0.22%,0.33:0.22%,0.94:0.12%,0.4:0.12%,0.75:0.11%,0.25:0.11%,0.96:0.09%,0.83:0.09%,0.2:0.08%,0.88:0.08%,0.44:0.08%,0.8:0.08%,0.89:0.08%,0.6:0.08%,0.9:0.08%,0.93:0.07%,0.95:0.07%,0.38:0.06%,0.91:0.06%,0.82:0.06%,0.17:0.05%,0.92:0.05%,0.12:0.05%,0.43:0.05%,0.57:0.05%,0.86:0.04%,0.71:0.04%,0.1:0.03%,0.73:0.03%,0.81:0.03%,0.62:0.03%,0.45:0.03%,0.11:0.03%,0.78:0.03%,0.85:0.03%,0.36:0.02%,0.77:0.02%,0.7:0.02%,0.56:0.02%,0.84:0.02%,0.47:0.02%,0.79:0.02%,0.55:0.02%,0.07:0.02%,0.68:0.02%,0.69:0.02%,0.14:0.02%,0.53:0.02%,0.64:0.02%,0.13:0.02%,0.42:0.02%,0.37:0.01%,0.58:0.01%,0.61:0.01%,0.16:0.01%,0.59:0.01%,0.27:0.01%,0.02:0.01%,0.72:0.01%,0.29:0.01%,0.65:0.01%,0.48:0.01%,0.74:0.01%,0.03:0.01%,0.08:0.01%,0.22:0.01%,0.06:0.01%,0.15:0.01%,0.54:0.01%,0.52:0.01%,0.21:0.01%,0.76:0.01%,0.35:0.01%,0.34:0.0%,0.87:0.0%,0.24:0.0%,0.23:0.0%,0.28:0.0%,0.31:0.0%,0.3:0.0%,0.09:0.0%,0.51:0.0%,0.41:0.0%,0.18:0.0%,0.39:0.0%,0.26:0.0%,0.46:0.0%,0.04:0.0%]\n",
            "** same_srv_rate:[1.0:70.35%,0.0:3.3%,0.01:2.8%,0.02:2.26%,0.03:2.16%,0.5:2.01%,0.07:2.0%,0.05:1.98%,0.06:1.98%,0.04:1.93%,0.08:1.42%,0.33:0.97%,0.09:0.91%,0.1:0.65%,0.12:0.63%,0.13:0.56%,0.14:0.53%,0.11:0.52%,0.25:0.49%,0.99:0.35%,0.15:0.33%,0.67:0.28%,0.2:0.25%,0.17:0.18%,0.16:0.18%,0.75:0.14%,0.18:0.1%,0.19:0.06%,0.24:0.06%,0.23:0.05%,0.21:0.04%,0.29:0.03%,0.26:0.03%,0.3:0.03%,0.92:0.03%,0.38:0.03%,0.27:0.03%,0.62:0.02%,0.6:0.02%,0.86:0.01%,0.47:0.01%,0.4:0.01%,0.32:0.01%,0.35:0.01%,0.22:0.01%,0.34:0.01%,0.39:0.01%,0.43:0.01%,0.91:0.01%,0.36:0.01%,0.93:0.01%,0.89:0.01%,0.83:0.01%,0.55:0.01%,0.46:0.01%,0.37:0.01%,0.31:0.01%,0.8:0.01%,0.95:0.01%,0.28:0.01%,0.41:0.01%,0.56:0.01%,0.65:0.0%,0.53:0.0%,0.54:0.0%,0.57:0.0%,0.9:0.0%,0.94:0.0%,0.48:0.0%,0.52:0.0%,0.78:0.0%,0.98:0.0%,0.42:0.0%,0.85:0.0%,0.58:0.0%]\n",
            "** diff_srv_rate:[0.0:70.29%,0.06:9.76%,1.0:6.15%,0.07:6.0%,0.08:1.55%,0.05:1.1%,0.09:0.98%,0.1:0.44%,0.67:0.43%,0.75:0.39%,0.01:0.23%,0.5:0.22%,0.8:0.2%,0.02:0.17%,0.11:0.13%,0.97:0.11%,0.98:0.07%,0.17:0.07%,0.15:0.07%,0.19:0.07%,0.96:0.06%,0.2:0.04%,0.12:0.04%,0.4:0.04%,0.88:0.04%,0.21:0.04%,0.13:0.04%,0.56:0.04%,0.14:0.04%,0.83:0.04%,0.29:0.04%,0.6:0.04%,0.18:0.04%,0.71:0.03%,0.54:0.03%,0.03:0.03%,0.65:0.03%,0.16:0.03%,0.55:0.03%,0.63:0.03%,0.61:0.03%,0.76:0.03%,0.87:0.03%,0.33:0.03%,0.94:0.03%,0.25:0.02%,0.81:0.02%,0.91:0.02%,0.48:0.02%,0.82:0.02%,0.57:0.02%,0.69:0.02%,0.64:0.02%,0.68:0.02%,0.9:0.02%,0.85:0.02%,0.86:0.02%,0.34:0.02%,0.84:0.02%,0.7:0.02%,0.58:0.02%,0.93:0.02%,0.77:0.02%,0.89:0.02%,0.95:0.01%,0.23:0.01%,0.45:0.01%,0.3:0.01%,0.38:0.01%,0.78:0.01%,0.42:0.01%,0.99:0.01%,0.59:0.01%,0.46:0.01%,0.22:0.01%,0.24:0.01%,0.35:0.01%,0.79:0.01%,0.28:0.01%,0.43:0.01%,0.52:0.01%,0.92:0.01%,0.47:0.01%,0.51:0.01%,0.66:0.01%,0.32:0.01%,0.74:0.01%,0.31:0.01%,0.26:0.01%,0.53:0.01%,0.44:0.01%,0.36:0.01%,0.49:0.01%,0.27:0.0%,0.39:0.0%,0.73:0.0%,0.62:0.0%,0.72:0.0%,0.41:0.0%]\n",
            "** srv_diff_host_rate:[0.0:77.93%,1.0:5.42%,0.01:1.09%,0.67:0.99%,0.5:0.92%,0.12:0.88%,0.33:0.69%,0.1:0.62%,0.11:0.6%,0.2:0.6%,0.17:0.59%,0.4:0.58%,0.22:0.57%,0.14:0.57%,0.18:0.56%,0.25:0.56%,0.09:0.51%,0.15:0.51%,0.07:0.48%,0.29:0.46%,0.08:0.43%,0.13:0.42%,0.06:0.32%,0.05:0.3%,0.6:0.28%,0.75:0.25%,0.19:0.24%,0.21:0.21%,0.16:0.2%,0.3:0.17%,0.27:0.16%,0.43:0.15%,0.04:0.15%,0.23:0.13%,0.38:0.12%,0.02:0.12%,0.8:0.1%,0.31:0.08%,0.57:0.08%,0.36:0.06%,0.83:0.06%,0.24:0.06%,0.03:0.06%,0.56:0.05%,0.89:0.05%,0.91:0.04%,0.44:0.04%,0.55:0.04%,0.88:0.04%,0.92:0.04%,0.95:0.03%,0.94:0.03%,0.62:0.03%,0.78:0.03%,0.26:0.02%,0.86:0.02%,0.64:0.02%,0.71:0.02%,0.96:0.02%,0.42:0.02%,0.9:0.02%,0.93:0.01%,0.58:0.01%,0.79:0.01%,0.87:0.01%,0.45:0.01%,0.28:0.01%,0.74:0.01%,0.7:0.01%,0.69:0.01%,0.54:0.01%,0.53:0.01%,0.73:0.01%,0.76:0.01%,0.32:0.0%,0.47:0.0%,0.84:0.0%,0.35:0.0%,0.39:0.0%,0.61:0.0%,0.82:0.0%,0.66:0.0%,0.63:0.0%,0.65:0.0%]\n",
            "** dst_host_count:256 (1%)\n",
            "** dst_host_srv_count:256 (1%)\n",
            "** dst_host_same_srv_rate:101 (0%)\n",
            "** dst_host_diff_srv_rate:101 (0%)\n",
            "** dst_host_same_src_port_rate:101 (0%)\n",
            "** dst_host_srv_diff_host_rate:[0.0:72.44%,0.02:6.6%,0.01:4.95%,0.03:4.37%,0.04:4.01%,0.05:2.0%,0.06:1.14%,0.07:0.68%,1.0:0.48%,0.25:0.3%,0.08:0.24%,0.5:0.2%,0.12:0.19%,0.11:0.16%,0.17:0.16%,0.14:0.15%,0.09:0.14%,0.15:0.13%,0.1:0.13%,0.18:0.12%,0.2:0.11%,0.13:0.11%,0.33:0.1%,0.22:0.1%,0.29:0.1%,0.26:0.09%,0.52:0.09%,0.27:0.08%,0.16:0.07%,0.51:0.06%,0.4:0.05%,0.19:0.05%,0.23:0.05%,0.21:0.05%,0.67:0.04%,0.3:0.04%,0.31:0.03%,0.28:0.03%,0.53:0.02%,0.6:0.02%,0.38:0.02%,0.43:0.02%,0.56:0.01%,0.54:0.01%,0.57:0.01%,0.55:0.01%,0.75:0.01%,0.36:0.01%,0.41:0.0%,0.47:0.0%,0.42:0.0%,0.24:0.0%,0.8:0.0%,0.46:0.0%,0.62:0.0%,0.32:0.0%,0.48:0.0%,0.39:0.0%]\n",
            "** dst_host_serror_rate:[0.0:79.52%,1.0:6.79%,0.01:2.93%,0.02:1.39%,0.05:0.63%,0.33:0.59%,0.04:0.58%,0.03:0.5%,0.07:0.4%,0.5:0.4%,0.13:0.38%,0.27:0.26%,0.15:0.26%,0.06:0.24%,0.14:0.24%,0.1:0.22%,0.53:0.21%,0.09:0.19%,0.11:0.18%,0.12:0.15%,0.97:0.14%,0.16:0.14%,0.08:0.13%,0.99:0.12%,0.18:0.12%,0.49:0.11%,0.19:0.11%,0.21:0.1%,0.98:0.09%,0.17:0.08%,0.24:0.08%,0.2:0.08%,0.82:0.07%,0.83:0.07%,0.55:0.07%,0.31:0.07%,0.29:0.07%,0.96:0.07%,0.35:0.06%,0.64:0.06%,0.42:0.06%,0.71:0.05%,0.4:0.05%,0.3:0.05%,0.54:0.05%,0.7:0.05%,0.56:0.05%,0.22:0.05%,0.81:0.05%,0.32:0.05%,0.47:0.05%,0.28:0.05%,0.79:0.05%,0.38:0.05%,0.45:0.05%,0.57:0.04%,0.48:0.04%,0.67:0.04%,0.25:0.04%,0.6:0.04%,0.44:0.04%,0.61:0.04%,0.63:0.04%,0.37:0.04%,0.87:0.04%,0.77:0.04%,0.36:0.04%,0.62:0.04%,0.51:0.04%,0.46:0.04%,0.75:0.04%,0.58:0.04%,0.78:0.04%,0.39:0.04%,0.69:0.04%,0.43:0.03%,0.68:0.03%,0.59:0.03%,0.8:0.03%,0.73:0.03%,0.65:0.03%,0.23:0.03%,0.34:0.03%,0.41:0.03%,0.26:0.03%,0.91:0.03%,0.52:0.03%,0.76:0.03%,0.74:0.03%,0.89:0.02%,0.85:0.02%,0.66:0.02%,0.72:0.02%,0.84:0.02%,0.86:0.01%,0.95:0.01%,0.92:0.0%,0.94:0.0%,0.88:0.0%]\n",
            "** dst_host_srv_serror_rate:101 (0%)\n",
            "** dst_host_rerror_rate:101 (0%)\n",
            "** dst_host_srv_rerror_rate:[0.0:67.84%,1.0:18.64%,0.01:1.97%,0.02:1.22%,0.03:1.02%,0.05:0.56%,0.06:0.49%,0.07:0.47%,0.04:0.42%,0.98:0.39%,0.7:0.37%,0.97:0.24%,0.59:0.23%,0.69:0.22%,0.08:0.2%,0.33:0.15%,0.68:0.15%,0.62:0.14%,0.5:0.14%,0.67:0.13%,0.71:0.12%,0.09:0.12%,0.1:0.11%,0.11:0.11%,0.2:0.11%,0.12:0.11%,0.17:0.1%,0.58:0.1%,0.64:0.1%,0.25:0.1%,0.13:0.1%,0.22:0.09%,0.6:0.09%,0.57:0.09%,0.24:0.08%,0.38:0.08%,0.27:0.08%,0.16:0.08%,0.43:0.08%,0.14:0.08%,0.28:0.08%,0.19:0.08%,0.66:0.08%,0.63:0.08%,0.61:0.07%,0.3:0.07%,0.29:0.07%,0.73:0.07%,0.49:0.07%,0.36:0.07%,0.4:0.07%,0.15:0.07%,0.31:0.07%,0.26:0.07%,0.48:0.07%,0.52:0.06%,0.51:0.06%,0.44:0.06%,0.65:0.06%,0.94:0.06%,0.18:0.06%,0.23:0.06%,0.96:0.06%,0.32:0.06%,0.37:0.06%,0.47:0.06%,0.95:0.06%,0.74:0.05%,0.42:0.05%,0.55:0.05%,0.21:0.05%,0.75:0.05%,0.35:0.05%,0.53:0.05%,0.56:0.05%,0.89:0.05%,0.45:0.05%,0.54:0.05%,0.34:0.05%,0.88:0.04%,0.41:0.04%,0.83:0.04%,0.86:0.04%,0.82:0.04%,0.9:0.04%,0.39:0.04%,0.46:0.04%,0.8:0.04%,0.81:0.04%,0.87:0.04%,0.93:0.04%,0.72:0.03%,0.77:0.03%,0.76:0.03%,0.91:0.03%,0.79:0.03%,0.92:0.02%,0.84:0.02%,0.78:0.02%,0.85:0.01%]\n"
          ]
        }
      ]
    },
    {
      "cell_type": "code",
      "source": [
        "X_train = train.drop(['class'], axis=1)\n",
        "Y_train = train['class']"
      ],
      "metadata": {
        "id": "KOQNbDjhuUoJ"
      },
      "execution_count": null,
      "outputs": []
    },
    {
      "cell_type": "code",
      "source": [
        "rfc = RandomForestClassifier()\n",
        "\n",
        "rfe = RFE(rfc, n_features_to_select=10)\n",
        "rfe = rfe.fit(X_train, Y_train)\n",
        "\n",
        "feature_map = [(i, v) for i, v in itertools.zip_longest(rfe.get_support(), X_train.columns)]\n",
        "selected_features = [v for i, v in feature_map if i==True]\n",
        "\n",
        "selected_features"
      ],
      "metadata": {
        "colab": {
          "base_uri": "https://localhost:8080/"
        },
        "id": "H_ROedAMuZn9",
        "outputId": "107369d7-c699-47ab-ca87-8e1785835ec4"
      },
      "execution_count": null,
      "outputs": [
        {
          "output_type": "execute_result",
          "data": {
            "text/plain": [
              "['protocol_type',\n",
              " 'service',\n",
              " 'flag',\n",
              " 'src_bytes',\n",
              " 'dst_bytes',\n",
              " 'count',\n",
              " 'same_srv_rate',\n",
              " 'diff_srv_rate',\n",
              " 'dst_host_srv_count',\n",
              " 'dst_host_same_srv_rate']"
            ]
          },
          "metadata": {},
          "execution_count": 39
        }
      ]
    },
    {
      "cell_type": "code",
      "source": [
        "X_train = X_train[selected_features]"
      ],
      "metadata": {
        "id": "7BTuWK3jdRTx"
      },
      "execution_count": null,
      "outputs": []
    },
    {
      "cell_type": "code",
      "source": [
        "x_train, x_test, y_train, y_test = train_test_split(X_train, Y_train, train_size=0.70, random_state=2)"
      ],
      "metadata": {
        "id": "azQGCSE7u5oH"
      },
      "execution_count": null,
      "outputs": []
    },
    {
      "cell_type": "code",
      "source": [
        "x_train.shape"
      ],
      "metadata": {
        "id": "fN39F9Z5u5lc",
        "colab": {
          "base_uri": "https://localhost:8080/"
        },
        "outputId": "cc77ebdc-92c9-45dd-9d2d-cd9ed0432c16"
      },
      "execution_count": null,
      "outputs": [
        {
          "output_type": "execute_result",
          "data": {
            "text/plain": [
              "(17634, 10)"
            ]
          },
          "metadata": {},
          "execution_count": 42
        }
      ]
    },
    {
      "cell_type": "code",
      "source": [
        "x_test.shape"
      ],
      "metadata": {
        "id": "h03Y22Nnu5iT",
        "colab": {
          "base_uri": "https://localhost:8080/"
        },
        "outputId": "e6eba7fa-bba4-4851-892a-e347b44c3f9e"
      },
      "execution_count": null,
      "outputs": [
        {
          "output_type": "execute_result",
          "data": {
            "text/plain": [
              "(7558, 10)"
            ]
          },
          "metadata": {},
          "execution_count": 43
        }
      ]
    },
    {
      "cell_type": "code",
      "source": [
        "import time"
      ],
      "metadata": {
        "id": "uo6SVjgPu5ZU"
      },
      "execution_count": null,
      "outputs": []
    },
    {
      "cell_type": "code",
      "source": [
        "from sklearn.linear_model import LogisticRegression\n",
        "\n",
        "clfl = LogisticRegression(max_iter = 1200000)\n",
        "start_time = time.time()\n",
        "clfl.fit(x_train, y_train.values.ravel())\n",
        "end_time = time.time()\n",
        "print(\"Training time: \", end_time-start_time)"
      ],
      "metadata": {
        "id": "CF8nC_w7u5TD",
        "colab": {
          "base_uri": "https://localhost:8080/"
        },
        "outputId": "aefddd26-6dfa-4c9f-ab84-7d9dee991a04"
      },
      "execution_count": null,
      "outputs": [
        {
          "output_type": "stream",
          "name": "stdout",
          "text": [
            "Training time:  0.2052006721496582\n"
          ]
        }
      ]
    },
    {
      "cell_type": "code",
      "source": [
        "start_time = time.time()\n",
        "y_test_pred = clfl.predict(x_train)\n",
        "end_time = time.time()\n",
        "print(\"Testing time: \", end_time-start_time)"
      ],
      "metadata": {
        "id": "OqNAbHUYu5GL",
        "colab": {
          "base_uri": "https://localhost:8080/"
        },
        "outputId": "7de917e4-b998-4d7d-9951-e8698ce4afa3"
      },
      "execution_count": null,
      "outputs": [
        {
          "output_type": "stream",
          "name": "stdout",
          "text": [
            "Testing time:  0.0031850337982177734\n"
          ]
        }
      ]
    },
    {
      "cell_type": "code",
      "source": [
        "lg_model = LogisticRegression(random_state = 42)\n",
        "lg_model.fit(x_train, y_train)"
      ],
      "metadata": {
        "id": "TU_MhR9Hu49b",
        "colab": {
          "base_uri": "https://localhost:8080/",
          "height": 74
        },
        "outputId": "adee85a3-f0c1-453d-9890-9eb98c0e7cba"
      },
      "execution_count": null,
      "outputs": [
        {
          "output_type": "execute_result",
          "data": {
            "text/plain": [
              "LogisticRegression(random_state=42)"
            ],
            "text/html": [
              "<style>#sk-container-id-1 {color: black;background-color: white;}#sk-container-id-1 pre{padding: 0;}#sk-container-id-1 div.sk-toggleable {background-color: white;}#sk-container-id-1 label.sk-toggleable__label {cursor: pointer;display: block;width: 100%;margin-bottom: 0;padding: 0.3em;box-sizing: border-box;text-align: center;}#sk-container-id-1 label.sk-toggleable__label-arrow:before {content: \"▸\";float: left;margin-right: 0.25em;color: #696969;}#sk-container-id-1 label.sk-toggleable__label-arrow:hover:before {color: black;}#sk-container-id-1 div.sk-estimator:hover label.sk-toggleable__label-arrow:before {color: black;}#sk-container-id-1 div.sk-toggleable__content {max-height: 0;max-width: 0;overflow: hidden;text-align: left;background-color: #f0f8ff;}#sk-container-id-1 div.sk-toggleable__content pre {margin: 0.2em;color: black;border-radius: 0.25em;background-color: #f0f8ff;}#sk-container-id-1 input.sk-toggleable__control:checked~div.sk-toggleable__content {max-height: 200px;max-width: 100%;overflow: auto;}#sk-container-id-1 input.sk-toggleable__control:checked~label.sk-toggleable__label-arrow:before {content: \"▾\";}#sk-container-id-1 div.sk-estimator input.sk-toggleable__control:checked~label.sk-toggleable__label {background-color: #d4ebff;}#sk-container-id-1 div.sk-label input.sk-toggleable__control:checked~label.sk-toggleable__label {background-color: #d4ebff;}#sk-container-id-1 input.sk-hidden--visually {border: 0;clip: rect(1px 1px 1px 1px);clip: rect(1px, 1px, 1px, 1px);height: 1px;margin: -1px;overflow: hidden;padding: 0;position: absolute;width: 1px;}#sk-container-id-1 div.sk-estimator {font-family: monospace;background-color: #f0f8ff;border: 1px dotted black;border-radius: 0.25em;box-sizing: border-box;margin-bottom: 0.5em;}#sk-container-id-1 div.sk-estimator:hover {background-color: #d4ebff;}#sk-container-id-1 div.sk-parallel-item::after {content: \"\";width: 100%;border-bottom: 1px solid gray;flex-grow: 1;}#sk-container-id-1 div.sk-label:hover label.sk-toggleable__label {background-color: #d4ebff;}#sk-container-id-1 div.sk-serial::before {content: \"\";position: absolute;border-left: 1px solid gray;box-sizing: border-box;top: 0;bottom: 0;left: 50%;z-index: 0;}#sk-container-id-1 div.sk-serial {display: flex;flex-direction: column;align-items: center;background-color: white;padding-right: 0.2em;padding-left: 0.2em;position: relative;}#sk-container-id-1 div.sk-item {position: relative;z-index: 1;}#sk-container-id-1 div.sk-parallel {display: flex;align-items: stretch;justify-content: center;background-color: white;position: relative;}#sk-container-id-1 div.sk-item::before, #sk-container-id-1 div.sk-parallel-item::before {content: \"\";position: absolute;border-left: 1px solid gray;box-sizing: border-box;top: 0;bottom: 0;left: 50%;z-index: -1;}#sk-container-id-1 div.sk-parallel-item {display: flex;flex-direction: column;z-index: 1;position: relative;background-color: white;}#sk-container-id-1 div.sk-parallel-item:first-child::after {align-self: flex-end;width: 50%;}#sk-container-id-1 div.sk-parallel-item:last-child::after {align-self: flex-start;width: 50%;}#sk-container-id-1 div.sk-parallel-item:only-child::after {width: 0;}#sk-container-id-1 div.sk-dashed-wrapped {border: 1px dashed gray;margin: 0 0.4em 0.5em 0.4em;box-sizing: border-box;padding-bottom: 0.4em;background-color: white;}#sk-container-id-1 div.sk-label label {font-family: monospace;font-weight: bold;display: inline-block;line-height: 1.2em;}#sk-container-id-1 div.sk-label-container {text-align: center;}#sk-container-id-1 div.sk-container {/* jupyter's `normalize.less` sets `[hidden] { display: none; }` but bootstrap.min.css set `[hidden] { display: none !important; }` so we also need the `!important` here to be able to override the default hidden behavior on the sphinx rendered scikit-learn.org. See: https://github.com/scikit-learn/scikit-learn/issues/21755 */display: inline-block !important;position: relative;}#sk-container-id-1 div.sk-text-repr-fallback {display: none;}</style><div id=\"sk-container-id-1\" class=\"sk-top-container\"><div class=\"sk-text-repr-fallback\"><pre>LogisticRegression(random_state=42)</pre><b>In a Jupyter environment, please rerun this cell to show the HTML representation or trust the notebook. <br />On GitHub, the HTML representation is unable to render, please try loading this page with nbviewer.org.</b></div><div class=\"sk-container\" hidden><div class=\"sk-item\"><div class=\"sk-estimator sk-toggleable\"><input class=\"sk-toggleable__control sk-hidden--visually\" id=\"sk-estimator-id-1\" type=\"checkbox\" checked><label for=\"sk-estimator-id-1\" class=\"sk-toggleable__label sk-toggleable__label-arrow\">LogisticRegression</label><div class=\"sk-toggleable__content\"><pre>LogisticRegression(random_state=42)</pre></div></div></div></div></div>"
            ]
          },
          "metadata": {},
          "execution_count": 47
        }
      ]
    },
    {
      "cell_type": "code",
      "source": [
        "lg_train, lg_test = lg_model.score(x_train , y_train), lg_model.score(x_test , y_test)\n",
        "\n",
        "print(f\"Training Score: {lg_train}\")\n",
        "print(f\"Test Score: {lg_test}\")"
      ],
      "metadata": {
        "id": "Za1bKWAfdHZB",
        "colab": {
          "base_uri": "https://localhost:8080/"
        },
        "outputId": "7207c16d-cdfe-42d7-c0f4-a97f5d17e09a"
      },
      "execution_count": null,
      "outputs": [
        {
          "output_type": "stream",
          "name": "stdout",
          "text": [
            "Training Score: 0.8832369286605422\n",
            "Test Score: 0.8786716062450384\n"
          ]
        }
      ]
    },
    {
      "cell_type": "code",
      "source": [
        "!pip install optuna"
      ],
      "metadata": {
        "id": "t_MVgtbgvZEE",
        "colab": {
          "base_uri": "https://localhost:8080/"
        },
        "outputId": "766fa494-c24c-4c09-b7fc-6e8857055582"
      },
      "execution_count": null,
      "outputs": [
        {
          "output_type": "stream",
          "name": "stdout",
          "text": [
            "Looking in indexes: https://pypi.org/simple, https://us-python.pkg.dev/colab-wheels/public/simple/\n",
            "Collecting optuna\n",
            "  Downloading optuna-3.1.1-py3-none-any.whl (365 kB)\n",
            "\u001b[2K     \u001b[90m━━━━━━━━━━━━━━━━━━━━━━━━━━━━━━━━━━━━━━\u001b[0m \u001b[32m365.7/365.7 kB\u001b[0m \u001b[31m27.0 MB/s\u001b[0m eta \u001b[36m0:00:00\u001b[0m\n",
            "\u001b[?25hCollecting alembic>=1.5.0 (from optuna)\n",
            "  Downloading alembic-1.10.4-py3-none-any.whl (212 kB)\n",
            "\u001b[2K     \u001b[90m━━━━━━━━━━━━━━━━━━━━━━━━━━━━━━━━━━━━━━\u001b[0m \u001b[32m212.9/212.9 kB\u001b[0m \u001b[31m23.4 MB/s\u001b[0m eta \u001b[36m0:00:00\u001b[0m\n",
            "\u001b[?25hCollecting cmaes>=0.9.1 (from optuna)\n",
            "  Downloading cmaes-0.9.1-py3-none-any.whl (21 kB)\n",
            "Collecting colorlog (from optuna)\n",
            "  Downloading colorlog-6.7.0-py2.py3-none-any.whl (11 kB)\n",
            "Requirement already satisfied: numpy in /usr/local/lib/python3.10/dist-packages (from optuna) (1.22.4)\n",
            "Requirement already satisfied: packaging>=20.0 in /usr/local/lib/python3.10/dist-packages (from optuna) (23.1)\n",
            "Requirement already satisfied: sqlalchemy>=1.3.0 in /usr/local/lib/python3.10/dist-packages (from optuna) (2.0.10)\n",
            "Requirement already satisfied: tqdm in /usr/local/lib/python3.10/dist-packages (from optuna) (4.65.0)\n",
            "Requirement already satisfied: PyYAML in /usr/local/lib/python3.10/dist-packages (from optuna) (6.0)\n",
            "Collecting Mako (from alembic>=1.5.0->optuna)\n",
            "  Downloading Mako-1.2.4-py3-none-any.whl (78 kB)\n",
            "\u001b[2K     \u001b[90m━━━━━━━━━━━━━━━━━━━━━━━━━━━━━━━━━━━━━━━━\u001b[0m \u001b[32m78.7/78.7 kB\u001b[0m \u001b[31m11.1 MB/s\u001b[0m eta \u001b[36m0:00:00\u001b[0m\n",
            "\u001b[?25hRequirement already satisfied: typing-extensions>=4 in /usr/local/lib/python3.10/dist-packages (from alembic>=1.5.0->optuna) (4.5.0)\n",
            "Requirement already satisfied: greenlet!=0.4.17 in /usr/local/lib/python3.10/dist-packages (from sqlalchemy>=1.3.0->optuna) (2.0.2)\n",
            "Requirement already satisfied: MarkupSafe>=0.9.2 in /usr/local/lib/python3.10/dist-packages (from Mako->alembic>=1.5.0->optuna) (2.1.2)\n",
            "Installing collected packages: Mako, colorlog, cmaes, alembic, optuna\n",
            "Successfully installed Mako-1.2.4 alembic-1.10.4 cmaes-0.9.1 colorlog-6.7.0 optuna-3.1.1\n"
          ]
        }
      ]
    },
    {
      "cell_type": "code",
      "source": [
        "import optuna\n",
        "optuna.logging.set_verbosity(optuna.logging.WARNING)"
      ],
      "metadata": {
        "id": "WuX25-yMuoZN"
      },
      "execution_count": null,
      "outputs": []
    },
    {
      "cell_type": "code",
      "source": [
        "def objective(trial):\n",
        "    n_neighbors = trial.suggest_int('KNN_n_neighbors', 2, 16, log=False)\n",
        "    classifier_obj = KNeighborsClassifier(n_neighbors=n_neighbors)\n",
        "    classifier_obj.fit(x_train, y_train)\n",
        "    accuracy = classifier_obj.score(x_test, y_test)\n",
        "    return accuracy"
      ],
      "metadata": {
        "id": "hoANbZ2KvhUk"
      },
      "execution_count": null,
      "outputs": []
    },
    {
      "cell_type": "code",
      "source": [
        "study_KNN = optuna.create_study(direction='maximize')\n",
        "study_KNN.optimize(objective, n_trials=1)\n",
        "print(study_KNN.best_trial)"
      ],
      "metadata": {
        "id": "U0C2jVnZvhR9",
        "colab": {
          "base_uri": "https://localhost:8080/"
        },
        "outputId": "3b9d8f33-48c6-4ed2-d4aa-209c2e1a5623"
      },
      "execution_count": null,
      "outputs": [
        {
          "output_type": "stream",
          "name": "stdout",
          "text": [
            "FrozenTrial(number=0, state=TrialState.COMPLETE, values=[0.9936491135220958], datetime_start=datetime.datetime(2023, 5, 10, 6, 31, 53, 199538), datetime_complete=datetime.datetime(2023, 5, 10, 6, 31, 53, 691702), params={'KNN_n_neighbors': 3}, user_attrs={}, system_attrs={}, intermediate_values={}, distributions={'KNN_n_neighbors': IntDistribution(high=16, log=False, low=2, step=1)}, trial_id=0, value=None)\n"
          ]
        }
      ]
    },
    {
      "cell_type": "code",
      "source": [
        "KNN_model = KNeighborsClassifier(n_neighbors=study_KNN.best_trial.params['KNN_n_neighbors'])\n",
        "KNN_model.fit(x_train, y_train)\n",
        "\n",
        "KNN_train, KNN_test = KNN_model.score(x_train, y_train), KNN_model.score(x_test, y_test)\n",
        "\n",
        "print(f\"Train Score: {KNN_train}\")\n",
        "print(f\"Test Score: {KNN_test}\")"
      ],
      "metadata": {
        "id": "zeNd06M-vhPM",
        "colab": {
          "base_uri": "https://localhost:8080/"
        },
        "outputId": "1247184c-693e-497b-a701-c82349ca7633"
      },
      "execution_count": null,
      "outputs": [
        {
          "output_type": "stream",
          "name": "stdout",
          "text": [
            "Train Score: 0.9962005217194057\n",
            "Test Score: 0.9936491135220958\n"
          ]
        }
      ]
    },
    {
      "cell_type": "code",
      "source": [
        "from sklearn.tree import DecisionTreeClassifier\n",
        "\n",
        "clfd = DecisionTreeClassifier(criterion =\"entropy\", max_depth = 4)\n",
        "start_time = time.time()\n",
        "clfd.fit(x_train, y_train.values.ravel())\n",
        "end_time = time.time()\n",
        "print(\"Training time: \", end_time-start_time)"
      ],
      "metadata": {
        "id": "UcedNcsfvhMc",
        "colab": {
          "base_uri": "https://localhost:8080/"
        },
        "outputId": "a0f02df1-00ba-4d71-f9cb-cf6b2b8e7bea"
      },
      "execution_count": null,
      "outputs": [
        {
          "output_type": "stream",
          "name": "stdout",
          "text": [
            "Training time:  0.05412864685058594\n"
          ]
        }
      ]
    },
    {
      "cell_type": "code",
      "source": [
        "start_time = time.time()\n",
        "y_test_pred = clfd.predict(x_train)\n",
        "end_time = time.time()\n",
        "print(\"Testing time: \", end_time-start_time)"
      ],
      "metadata": {
        "id": "IdO-axL6vw8o",
        "colab": {
          "base_uri": "https://localhost:8080/"
        },
        "outputId": "9159d46c-d147-404b-aa86-ef6bb1e51100"
      },
      "execution_count": null,
      "outputs": [
        {
          "output_type": "stream",
          "name": "stdout",
          "text": [
            "Testing time:  0.004078865051269531\n"
          ]
        }
      ]
    },
    {
      "cell_type": "code",
      "source": [
        "def objective(trial):\n",
        "    dt_max_depth = trial.suggest_int('dt_max_depth', 2, 32, log=False)\n",
        "    dt_max_features = trial.suggest_int('dt_max_features', 2, 10, log=False)\n",
        "    classifier_obj = DecisionTreeClassifier(max_features = dt_max_features, max_depth = dt_max_depth)\n",
        "    classifier_obj.fit(x_train, y_train)\n",
        "    accuracy = classifier_obj.score(x_test, y_test)\n",
        "    return accuracy"
      ],
      "metadata": {
        "id": "CghxGRG7vw5z"
      },
      "execution_count": null,
      "outputs": []
    },
    {
      "cell_type": "code",
      "source": [
        "study_dt = optuna.create_study(direction='maximize')\n",
        "study_dt.optimize(objective, n_trials=30)\n",
        "print(study_dt.best_trial)"
      ],
      "metadata": {
        "id": "RgEePp45vw2r",
        "colab": {
          "base_uri": "https://localhost:8080/"
        },
        "outputId": "29b92dd6-370b-4734-b2a4-9413cef2710e"
      },
      "execution_count": null,
      "outputs": [
        {
          "output_type": "stream",
          "name": "stdout",
          "text": [
            "FrozenTrial(number=20, state=TrialState.COMPLETE, values=[0.9956337655464409], datetime_start=datetime.datetime(2023, 5, 10, 6, 31, 56, 378297), datetime_complete=datetime.datetime(2023, 5, 10, 6, 31, 56, 444929), params={'dt_max_depth': 20, 'dt_max_features': 9}, user_attrs={}, system_attrs={}, intermediate_values={}, distributions={'dt_max_depth': IntDistribution(high=32, log=False, low=2, step=1), 'dt_max_features': IntDistribution(high=10, log=False, low=2, step=1)}, trial_id=20, value=None)\n"
          ]
        }
      ]
    },
    {
      "cell_type": "code",
      "source": [
        "dt = DecisionTreeClassifier(max_features = study_dt.best_trial.params['dt_max_features'], max_depth = study_dt.best_trial.params['dt_max_depth'])\n",
        "dt.fit(x_train, y_train)\n",
        "\n",
        "dt_train, dt_test = dt.score(x_train, y_train), dt.score(x_test, y_test)\n",
        "\n",
        "print(f\"Train Score: {dt_train}\")\n",
        "print(f\"Test Score: {dt_test}\")"
      ],
      "metadata": {
        "id": "xGPOwjw5vwzm",
        "colab": {
          "base_uri": "https://localhost:8080/"
        },
        "outputId": "e3c35140-bca0-4485-d0b4-853b56d72f80"
      },
      "execution_count": null,
      "outputs": [
        {
          "output_type": "stream",
          "name": "stdout",
          "text": [
            "Train Score: 1.0\n",
            "Test Score: 0.9958983858163535\n"
          ]
        }
      ]
    },
    {
      "cell_type": "code",
      "source": [
        "data = [[\"KNN\", KNN_train, KNN_test],\n",
        "        [\"Logistic Regression\", lg_train, lg_test],\n",
        "        [\"Decision Tree\", dt_train, dt_test]]\n",
        "\n",
        "col_names = [\"Model\", \"Train Score\", \"Test Score\"]\n",
        "print(tabulate(data, headers=col_names, tablefmt=\"fancy_grid\"))"
      ],
      "metadata": {
        "id": "lk0oSu50vhJo",
        "colab": {
          "base_uri": "https://localhost:8080/"
        },
        "outputId": "2500c875-52e5-4eba-dd1b-3e976ad7f33f"
      },
      "execution_count": null,
      "outputs": [
        {
          "output_type": "stream",
          "name": "stdout",
          "text": [
            "╒═════════════════════╤═══════════════╤══════════════╕\n",
            "│ Model               │   Train Score │   Test Score │\n",
            "╞═════════════════════╪═══════════════╪══════════════╡\n",
            "│ KNN                 │      0.996201 │     0.993649 │\n",
            "├─────────────────────┼───────────────┼──────────────┤\n",
            "│ Logistic Regression │      0.883237 │     0.878672 │\n",
            "├─────────────────────┼───────────────┼──────────────┤\n",
            "│ Decision Tree       │      1        │     0.995898 │\n",
            "╘═════════════════════╧═══════════════╧══════════════╛\n"
          ]
        }
      ]
    },
    {
      "cell_type": "code",
      "source": [
        "SEED = 42\n",
        "\n",
        "# Decision Tree Model\n",
        "dtc = DecisionTreeClassifier()\n",
        "\n",
        "# KNN\n",
        "knn = KNeighborsClassifier()\n",
        "\n",
        "# LOGISTIC REGRESSION MODEL\n",
        "\n",
        "lr = LogisticRegression()"
      ],
      "metadata": {
        "id": "FSUkSz4svhGr"
      },
      "execution_count": null,
      "outputs": []
    },
    {
      "cell_type": "code",
      "source": [
        "from sklearn.model_selection import cross_val_score\n",
        "models = {}\n",
        "models['KNeighborsClassifier']= knn\n",
        "models['LogisticRegression']= lr\n",
        "models['DecisionTreeClassifier']= dtc"
      ],
      "metadata": {
        "id": "oPSIojNrvg_0"
      },
      "execution_count": null,
      "outputs": []
    },
    {
      "cell_type": "code",
      "source": [
        "scores = {}\n",
        "for name in models:\n",
        "  scores[name]={}\n",
        "  for scorer in ['precision','recall']:\n",
        "    scores[name][scorer] = cross_val_score(models[name], x_train, y_train, cv=10, scoring=scorer)"
      ],
      "metadata": {
        "id": "ZexTYfC9wCX-",
        "colab": {
          "base_uri": "https://localhost:8080/"
        },
        "outputId": "109f7b51-0862-42ca-86b6-666b3be6c744"
      },
      "execution_count": null,
      "outputs": [
        {
          "output_type": "stream",
          "name": "stderr",
          "text": [
            "/usr/local/lib/python3.10/dist-packages/sklearn/linear_model/_logistic.py:458: ConvergenceWarning: lbfgs failed to converge (status=1):\n",
            "STOP: TOTAL NO. of ITERATIONS REACHED LIMIT.\n",
            "\n",
            "Increase the number of iterations (max_iter) or scale the data as shown in:\n",
            "    https://scikit-learn.org/stable/modules/preprocessing.html\n",
            "Please also refer to the documentation for alternative solver options:\n",
            "    https://scikit-learn.org/stable/modules/linear_model.html#logistic-regression\n",
            "  n_iter_i = _check_optimize_result(\n",
            "/usr/local/lib/python3.10/dist-packages/sklearn/linear_model/_logistic.py:458: ConvergenceWarning: lbfgs failed to converge (status=1):\n",
            "STOP: TOTAL NO. of ITERATIONS REACHED LIMIT.\n",
            "\n",
            "Increase the number of iterations (max_iter) or scale the data as shown in:\n",
            "    https://scikit-learn.org/stable/modules/preprocessing.html\n",
            "Please also refer to the documentation for alternative solver options:\n",
            "    https://scikit-learn.org/stable/modules/linear_model.html#logistic-regression\n",
            "  n_iter_i = _check_optimize_result(\n",
            "/usr/local/lib/python3.10/dist-packages/sklearn/linear_model/_logistic.py:458: ConvergenceWarning: lbfgs failed to converge (status=1):\n",
            "STOP: TOTAL NO. of ITERATIONS REACHED LIMIT.\n",
            "\n",
            "Increase the number of iterations (max_iter) or scale the data as shown in:\n",
            "    https://scikit-learn.org/stable/modules/preprocessing.html\n",
            "Please also refer to the documentation for alternative solver options:\n",
            "    https://scikit-learn.org/stable/modules/linear_model.html#logistic-regression\n",
            "  n_iter_i = _check_optimize_result(\n",
            "/usr/local/lib/python3.10/dist-packages/sklearn/linear_model/_logistic.py:458: ConvergenceWarning: lbfgs failed to converge (status=1):\n",
            "STOP: TOTAL NO. of ITERATIONS REACHED LIMIT.\n",
            "\n",
            "Increase the number of iterations (max_iter) or scale the data as shown in:\n",
            "    https://scikit-learn.org/stable/modules/preprocessing.html\n",
            "Please also refer to the documentation for alternative solver options:\n",
            "    https://scikit-learn.org/stable/modules/linear_model.html#logistic-regression\n",
            "  n_iter_i = _check_optimize_result(\n",
            "/usr/local/lib/python3.10/dist-packages/sklearn/linear_model/_logistic.py:458: ConvergenceWarning: lbfgs failed to converge (status=1):\n",
            "STOP: TOTAL NO. of ITERATIONS REACHED LIMIT.\n",
            "\n",
            "Increase the number of iterations (max_iter) or scale the data as shown in:\n",
            "    https://scikit-learn.org/stable/modules/preprocessing.html\n",
            "Please also refer to the documentation for alternative solver options:\n",
            "    https://scikit-learn.org/stable/modules/linear_model.html#logistic-regression\n",
            "  n_iter_i = _check_optimize_result(\n",
            "/usr/local/lib/python3.10/dist-packages/sklearn/linear_model/_logistic.py:458: ConvergenceWarning: lbfgs failed to converge (status=1):\n",
            "STOP: TOTAL NO. of ITERATIONS REACHED LIMIT.\n",
            "\n",
            "Increase the number of iterations (max_iter) or scale the data as shown in:\n",
            "    https://scikit-learn.org/stable/modules/preprocessing.html\n",
            "Please also refer to the documentation for alternative solver options:\n",
            "    https://scikit-learn.org/stable/modules/linear_model.html#logistic-regression\n",
            "  n_iter_i = _check_optimize_result(\n",
            "/usr/local/lib/python3.10/dist-packages/sklearn/linear_model/_logistic.py:458: ConvergenceWarning: lbfgs failed to converge (status=1):\n",
            "STOP: TOTAL NO. of ITERATIONS REACHED LIMIT.\n",
            "\n",
            "Increase the number of iterations (max_iter) or scale the data as shown in:\n",
            "    https://scikit-learn.org/stable/modules/preprocessing.html\n",
            "Please also refer to the documentation for alternative solver options:\n",
            "    https://scikit-learn.org/stable/modules/linear_model.html#logistic-regression\n",
            "  n_iter_i = _check_optimize_result(\n",
            "/usr/local/lib/python3.10/dist-packages/sklearn/linear_model/_logistic.py:458: ConvergenceWarning: lbfgs failed to converge (status=1):\n",
            "STOP: TOTAL NO. of ITERATIONS REACHED LIMIT.\n",
            "\n",
            "Increase the number of iterations (max_iter) or scale the data as shown in:\n",
            "    https://scikit-learn.org/stable/modules/preprocessing.html\n",
            "Please also refer to the documentation for alternative solver options:\n",
            "    https://scikit-learn.org/stable/modules/linear_model.html#logistic-regression\n",
            "  n_iter_i = _check_optimize_result(\n"
          ]
        }
      ]
    },
    {
      "cell_type": "code",
      "source": [
        "def line(name):\n",
        "  return '*'*(25-len(name)//2)\n",
        "\n",
        "for name in models:\n",
        "  print(line(name), name, 'Model Validation', line(name))\n",
        "\n",
        "  for scorer in ['precision','recall']:\n",
        "    mean = round(np.mean(scores[name][scorer])*100,2)\n",
        "    stdev = round(np.std(scores[name][scorer])*100,2)\n",
        "    print (\"Mean {}:\".format(scorer),\"\\n\", mean,\"%\", \"+-\",stdev)\n",
        "    print()"
      ],
      "metadata": {
        "id": "10ppy_FJwCVT",
        "colab": {
          "base_uri": "https://localhost:8080/"
        },
        "outputId": "eb8822a0-fbed-41aa-82ae-f8780beffd93"
      },
      "execution_count": null,
      "outputs": [
        {
          "output_type": "stream",
          "name": "stdout",
          "text": [
            "*************** KNeighborsClassifier Model Validation ***************\n",
            "Mean precision: \n",
            " 99.13 % +- 0.2\n",
            "\n",
            "Mean recall: \n",
            " 99.12 % +- 0.34\n",
            "\n",
            "**************** LogisticRegression Model Validation ****************\n",
            "Mean precision: \n",
            " 87.47 % +- 0.97\n",
            "\n",
            "Mean recall: \n",
            " 89.08 % +- 2.13\n",
            "\n",
            "************** DecisionTreeClassifier Model Validation **************\n",
            "Mean precision: \n",
            " 99.53 % +- 0.18\n",
            "\n",
            "Mean recall: \n",
            " 99.54 % +- 0.19\n",
            "\n"
          ]
        }
      ]
    },
    {
      "cell_type": "code",
      "source": [
        "for name in models:\n",
        "    for scorer in ['precision','recall']:\n",
        "        scores[name][scorer] = scores[name][scorer].mean()\n",
        "scores=pd.DataFrame(scores).swapaxes(\"index\", \"columns\")*100\n",
        "scores.plot(kind = \"bar\",  ylim=[80,100], figsize=(24,6), rot=0)"
      ],
      "metadata": {
        "id": "w6EaRPs4wCSl",
        "colab": {
          "base_uri": "https://localhost:8080/",
          "height": 329
        },
        "outputId": "73b54d85-8c3a-4b6e-9297-96e610550380"
      },
      "execution_count": null,
      "outputs": [
        {
          "output_type": "execute_result",
          "data": {
            "text/plain": [
              "<Axes: >"
            ]
          },
          "metadata": {},
          "execution_count": 64
        },
        {
          "output_type": "display_data",
          "data": {
            "text/plain": [
              "<Figure size 2400x600 with 1 Axes>"
            ],
            "image/png": "[encoded data removed]"
          },
          "metadata": {}
        }
      ]
    },
    {
      "cell_type": "code",
      "source": [
        "models = {}\n",
        "models['KNeighborsClassifier']= knn\n",
        "models['LogisticRegression']= lr\n",
        "models['DecisionTreeClassifier']= dtc"
      ],
      "metadata": {
        "id": "XzcIlTNUwCPj"
      },
      "execution_count": null,
      "outputs": []
    },
    {
      "cell_type": "code",
      "source": [
        "preds={}\n",
        "for name in models:\n",
        "    models[name].fit(x_train, y_train)\n",
        "    preds[name] = models[name].predict(x_test)\n",
        "print(\"Predictions complete.\")"
      ],
      "metadata": {
        "id": "O70yXejrwCM8",
        "colab": {
          "base_uri": "https://localhost:8080/"
        },
        "outputId": "4cf91309-f874-4790-b4bf-2993a8222c65"
      },
      "execution_count": null,
      "outputs": [
        {
          "output_type": "stream",
          "name": "stdout",
          "text": [
            "Predictions complete.\n"
          ]
        }
      ]
    },
    {
      "cell_type": "code",
      "source": [
        "from sklearn.metrics import confusion_matrix, classification_report, f1_score\n",
        "def line(name,sym=\"*\"):\n",
        "    return sym*(25-len(name)//2)\n",
        "target_names=[\"normal\",\"anamoly\"]\n",
        "for name in models:\n",
        "    print(line(name), name, 'Model Testing', line(name))\n",
        "    print(confusion_matrix(y_test, preds[name]))\n",
        "    print(line(name,'-'))\n",
        "    print(classification_report(y_test, preds[name], target_names=target_names))"
      ],
      "metadata": {
        "id": "s5ovC9F3wCJ7",
        "colab": {
          "base_uri": "https://localhost:8080/"
        },
        "outputId": "ea31f488-c72a-4574-fd17-1b2fe723bae7"
      },
      "execution_count": null,
      "outputs": [
        {
          "output_type": "stream",
          "name": "stdout",
          "text": [
            "*************** KNeighborsClassifier Model Testing ***************\n",
            "[[3474   24]\n",
            " [  34 4026]]\n",
            "---------------\n",
            "              precision    recall  f1-score   support\n",
            "\n",
            "      normal       0.99      0.99      0.99      3498\n",
            "     anamoly       0.99      0.99      0.99      4060\n",
            "\n",
            "    accuracy                           0.99      7558\n",
            "   macro avg       0.99      0.99      0.99      7558\n",
            "weighted avg       0.99      0.99      0.99      7558\n",
            "\n",
            "**************** LogisticRegression Model Testing ****************\n",
            "[[2964  534]\n",
            " [ 383 3677]]\n",
            "----------------\n",
            "              precision    recall  f1-score   support\n",
            "\n",
            "      normal       0.89      0.85      0.87      3498\n",
            "     anamoly       0.87      0.91      0.89      4060\n",
            "\n",
            "    accuracy                           0.88      7558\n",
            "   macro avg       0.88      0.88      0.88      7558\n",
            "weighted avg       0.88      0.88      0.88      7558\n",
            "\n",
            "************** DecisionTreeClassifier Model Testing **************\n",
            "[[3485   13]\n",
            " [  24 4036]]\n",
            "--------------\n",
            "              precision    recall  f1-score   support\n",
            "\n",
            "      normal       0.99      1.00      0.99      3498\n",
            "     anamoly       1.00      0.99      1.00      4060\n",
            "\n",
            "    accuracy                           1.00      7558\n",
            "   macro avg       0.99      1.00      1.00      7558\n",
            "weighted avg       1.00      1.00      1.00      7558\n",
            "\n"
          ]
        }
      ]
    },
    {
      "cell_type": "code",
      "source": [
        "for name in models:\n",
        "    plt.figure(figsize=(6,4))\n",
        "    cm = confusion_matrix(y_test, preds[name])\n",
        "    sns.heatmap(cm, annot=True, cmap='Blues', fmt='g', xticklabels=target_names, yticklabels=target_names)\n",
        "    plt.xlabel('Predicted')\n",
        "    plt.ylabel('Actual')\n",
        "    plt.title(f'Confusion Matrix - {name} Model')\n",
        "    plt.show()\n"
      ],
      "metadata": {
        "colab": {
          "base_uri": "https://localhost:8080/",
          "height": 1000
        },
        "id": "Daj-ixc1AIvy",
        "outputId": "8028d3eb-0763-4524-f8ad-5677176f3735"
      },
      "execution_count": null,
      "outputs": [
        {
          "output_type": "display_data",
          "data": {
            "text/plain": [
              "<Figure size 600x400 with 2 Axes>"
            ],
            "image/png": "[encoded data removed]"
          },
          "metadata": {}
        },
        {
          "output_type": "display_data",
          "data": {
            "text/plain": [
              "<Figure size 600x400 with 2 Axes>"
            ],
            "image/png": "[encoded data removed]"
          },
          "metadata": {}
        },
        {
          "output_type": "display_data",
          "data": {
            "text/plain": [
              "<Figure size 600x400 with 2 Axes>"
            ],
            "image/png": "[encoded data removed]"
          },
          "metadata": {}
        }
      ]
    },
    {
      "cell_type": "code",
      "source": [
        "f1s = {}\n",
        "for name in models:\n",
        "    f1s[name]=f1_score(y_test, preds[name])\n",
        "f1s=pd.DataFrame(f1s.values(),index=f1s.keys(),columns=[\"F1-score\"])*100\n",
        "f1s.plot(kind = \"bar\",  ylim=[80,100], figsize=(10,6), rot=0)"
      ],
      "metadata": {
        "id": "M2vct0l9wOIM",
        "colab": {
          "base_uri": "https://localhost:8080/",
          "height": 545
        },
        "outputId": "376287aa-62bb-4878-faa1-e213a20eb8b3"
      },
      "execution_count": null,
      "outputs": [
        {
          "output_type": "execute_result",
          "data": {
            "text/plain": [
              "<Axes: >"
            ]
          },
          "metadata": {},
          "execution_count": 69
        },
        {
          "output_type": "display_data",
          "data": {
            "text/plain": [
              "<Figure size 1000x600 with 1 Axes>"
            ],
            "image/png": "[encoded data removed]"
          },
          "metadata": {}
        }
      ]
    }
  ]
}